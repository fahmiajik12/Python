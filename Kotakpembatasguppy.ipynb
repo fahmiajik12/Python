{
  "nbformat": 4,
  "nbformat_minor": 0,
  "metadata": {
    "colab": {
      "provenance": []
    },
    "kernelspec": {
      "name": "python3",
      "display_name": "Python 3"
    },
    "language_info": {
      "name": "python"
    }
  },
  "cells": [
    {
      "cell_type": "code",
      "execution_count": 1,
      "metadata": {
        "id": "hp3C5PzZ2-wL"
      },
      "outputs": [],
      "source": [
        "#Kotak pembatas\n",
        "import cv2\n",
        "import numpy as np"
      ]
    },
    {
      "cell_type": "code",
      "source": [
        "#Baca citra biner\n",
        "citra = cv2.imread(\"guppy.jpeg\", 0)\n",
        "\n",
        "citraBerwarna = cv2.merge((citra, citra, citra))"
      ],
      "metadata": {
        "id": "PsqvanVO3MMD"
      },
      "execution_count": 2,
      "outputs": []
    },
    {
      "cell_type": "code",
      "source": [
        "#Peroleh kontur\n",
        "kontur, hierarki = cv2.findContours(citra, cv2.RETR_EXTERNAL, cv2.CHAIN_APPROX_NONE)"
      ],
      "metadata": {
        "id": "TxCueh8k3aOh"
      },
      "execution_count": 3,
      "outputs": []
    },
    {
      "cell_type": "code",
      "source": [
        "#Peroleh kotak pembatas langsung\n",
        "x, y, lebar, tinggi = cv2.boundingRect(kontur[0])"
      ],
      "metadata": {
        "id": "lXXTj8T43m8W"
      },
      "execution_count": 4,
      "outputs": []
    },
    {
      "cell_type": "markdown",
      "source": [
        "**Fungsi cv2.boundingRect dari OpenCV digunakan untuk menggambar perkiraan persegi panjang di sekitar gambar biner**"
      ],
      "metadata": {
        "id": "MEgTtZJLuLq2"
      }
    },
    {
      "cell_type": "code",
      "source": [
        "#Gambar kotak pembatas\n",
        "cv2.rectangle(citraBerwarna, (x, y), (x + lebar, y + tinggi), (255, 255, 0), 2)"
      ],
      "metadata": {
        "colab": {
          "base_uri": "https://localhost:8080/"
        },
        "id": "DPvvMakX3y7T",
        "outputId": "41aaa06a-7e0c-487e-dc99-a92e73aa14e1"
      },
      "execution_count": 5,
      "outputs": [
        {
          "output_type": "execute_result",
          "data": {
            "text/plain": [
              "array([[[  0,   0,   0],\n",
              "        [  0,   0,   0],\n",
              "        [  0,   0,   0],\n",
              "        ...,\n",
              "        [  0,   0,   0],\n",
              "        [  0,   0,   0],\n",
              "        [  0,   0,   0]],\n",
              "\n",
              "       [[  0,   0,   0],\n",
              "        [  0,   0,   0],\n",
              "        [  0,   0,   0],\n",
              "        ...,\n",
              "        [  0,   0,   0],\n",
              "        [  0,   0,   0],\n",
              "        [  0,   0,   0]],\n",
              "\n",
              "       [[  0,   0,   0],\n",
              "        [  0,   0,   0],\n",
              "        [  0,   0,   0],\n",
              "        ...,\n",
              "        [  0,   0,   0],\n",
              "        [  0,   0,   0],\n",
              "        [  0,   0,   0]],\n",
              "\n",
              "       ...,\n",
              "\n",
              "       [[255, 255,   0],\n",
              "        [255, 255,   0],\n",
              "        [  0,   0,   0],\n",
              "        ...,\n",
              "        [  0,   0,   0],\n",
              "        [  0,   0,   0],\n",
              "        [255, 255,   0]],\n",
              "\n",
              "       [[255, 255,   0],\n",
              "        [255, 255,   0],\n",
              "        [  0,   0,   0],\n",
              "        ...,\n",
              "        [  0,   0,   0],\n",
              "        [  0,   0,   0],\n",
              "        [255, 255,   0]],\n",
              "\n",
              "       [[255, 255,   0],\n",
              "        [255, 255,   0],\n",
              "        [255, 255,   0],\n",
              "        ...,\n",
              "        [255, 255,   0],\n",
              "        [255, 255,   0],\n",
              "        [255, 255,   0]]], dtype=uint8)"
            ]
          },
          "metadata": {},
          "execution_count": 5
        }
      ]
    },
    {
      "cell_type": "markdown",
      "source": [
        "**Digunakan untuk menggambar persegi panjang pada gambar dengan hasil matrix**"
      ],
      "metadata": {
        "id": "FMg4SxCbuXdk"
      }
    },
    {
      "cell_type": "code",
      "source": [
        "#Peroleh kotak pembatas terputas \n",
        "persegiPanjang = cv2.minAreaRect(kontur[0])\n",
        "kotak = cv2.boxPoints(persegiPanjang)\n",
        "kotak = np.int32(kotak)\n",
        "cv2.drawContours(citraBerwarna, [kotak], 0, (128, 128, 128), 2)"
      ],
      "metadata": {
        "colab": {
          "base_uri": "https://localhost:8080/"
        },
        "id": "vbbVr6hs4HBZ",
        "outputId": "18519a02-fcb6-43d1-e7ba-ad345d7c9013"
      },
      "execution_count": 6,
      "outputs": [
        {
          "output_type": "execute_result",
          "data": {
            "text/plain": [
              "array([[[  0,   0,   0],\n",
              "        [  0,   0,   0],\n",
              "        [  0,   0,   0],\n",
              "        ...,\n",
              "        [  0,   0,   0],\n",
              "        [  0,   0,   0],\n",
              "        [  0,   0,   0]],\n",
              "\n",
              "       [[  0,   0,   0],\n",
              "        [  0,   0,   0],\n",
              "        [  0,   0,   0],\n",
              "        ...,\n",
              "        [  0,   0,   0],\n",
              "        [  0,   0,   0],\n",
              "        [  0,   0,   0]],\n",
              "\n",
              "       [[  0,   0,   0],\n",
              "        [  0,   0,   0],\n",
              "        [  0,   0,   0],\n",
              "        ...,\n",
              "        [  0,   0,   0],\n",
              "        [  0,   0,   0],\n",
              "        [  0,   0,   0]],\n",
              "\n",
              "       ...,\n",
              "\n",
              "       [[128, 128, 128],\n",
              "        [128, 128, 128],\n",
              "        [128, 128, 128],\n",
              "        ...,\n",
              "        [128, 128, 128],\n",
              "        [128, 128, 128],\n",
              "        [128, 128, 128]],\n",
              "\n",
              "       [[128, 128, 128],\n",
              "        [128, 128, 128],\n",
              "        [128, 128, 128],\n",
              "        ...,\n",
              "        [128, 128, 128],\n",
              "        [128, 128, 128],\n",
              "        [128, 128, 128]],\n",
              "\n",
              "       [[128, 128, 128],\n",
              "        [128, 128, 128],\n",
              "        [128, 128, 128],\n",
              "        ...,\n",
              "        [128, 128, 128],\n",
              "        [128, 128, 128],\n",
              "        [255, 255,   0]]], dtype=uint8)"
            ]
          },
          "metadata": {},
          "execution_count": 6
        }
      ]
    },
    {
      "cell_type": "markdown",
      "source": [
        "**Fungsi cv2.minAreaRect() untuk mencari luas minimum persegi panjang yang diputar. Ini mengambil input set titik 2D dan mengembalikan struktur Box2D yang berisi detail berikut – (pusat (x, y), (lebar, tinggi), sudut rotasi)**"
      ],
      "metadata": {
        "id": "AUetDJzHuo4k"
      }
    },
    {
      "cell_type": "code",
      "source": [
        "from google.colab.patches import cv2_imshow"
      ],
      "metadata": {
        "id": "ZCBkrKyk4rVt"
      },
      "execution_count": 7,
      "outputs": []
    },
    {
      "cell_type": "code",
      "source": [
        "#Tampilkan hasilnya\n",
        "cv2_imshow(citraBerwarna)\n",
        "cv2.waitKey()"
      ],
      "metadata": {
        "colab": {
          "base_uri": "https://localhost:8080/",
          "height": 190
        },
        "id": "dIBGjjdJ46gg",
        "outputId": "19a3a58e-504a-4b77-bade-3de203c79c1b"
      },
      "execution_count": 8,
      "outputs": [
        {
          "output_type": "display_data",
          "data": {
            "text/plain": [
              "<PIL.Image.Image image mode=RGB size=156x156 at 0x7FE89826EBD0>"
            ],
            "image/png": "[encoded data removed]"
          },
          "metadata": {}
        },
        {
          "output_type": "execute_result",
          "data": {
            "text/plain": [
              "-1"
            ]
          },
          "metadata": {},
          "execution_count": 8
        }
      ]
    },
    {
      "cell_type": "markdown",
      "source": [
        "**Gambar di atas adalah hasil dari perhitungan pembatas dengan menggunakan cv2.rectangle dan menggunakan cv2.minAreaRect**"
      ],
      "metadata": {
        "id": "crFDpE0outyr"
      }
    }
  ]
}