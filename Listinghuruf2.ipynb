{
  "nbformat": 4,
  "nbformat_minor": 0,
  "metadata": {
    "colab": {
      "provenance": []
    },
    "kernelspec": {
      "name": "python3",
      "display_name": "Python 3"
    },
    "language_info": {
      "name": "python"
    }
  },
  "cells": [
    {
      "cell_type": "code",
      "execution_count": 1,
      "metadata": {
        "id": "KEuCXJhcEWhc"
      },
      "outputs": [],
      "source": [
        "import cv2\n",
        "import numpy as np"
      ]
    },
    {
      "cell_type": "markdown",
      "source": [
        "**Import cv 2 berfungsi untuk memanggil modul opencv untuk proses input,simpan dan menampilkan citra/ image.\n",
        "dan import numpy as np berfungsi untuk menyimpan data dalam bentuk array yaitu kumpulan variabel yang memiliki tipe data yang sama.**"
      ],
      "metadata": {
        "id": "uiaY_sERcG7M"
      }
    },
    {
      "cell_type": "code",
      "source": [
        "#Baca citra biner \n",
        "citra = cv2.imread('huruf_bin.jpeg',0)"
      ],
      "metadata": {
        "id": "MARdb_OyEqR9"
      },
      "execution_count": 2,
      "outputs": []
    },
    {
      "cell_type": "markdown",
      "source": [
        "**Cv2.imread berfungsi untuk membaca file gambar yang sudah di upload dengan cv2 dan cv2.resize berfungsi untuk mengubah ukuran gambar**"
      ],
      "metadata": {
        "id": "xP6WXN9gcRlF"
      }
    },
    {
      "cell_type": "code",
      "source": [
        "#Bentuk citra berwarna dengan latar belakang hitam\n",
        "jumBaris = citra.shape[0]\n",
        "jumKolom = citra.shape[1]\n",
        "citraKontur = np.zeros((jumBaris, jumKolom,3), np.uint8)"
      ],
      "metadata": {
        "id": "hDc0R-dZEvGf"
      },
      "execution_count": 3,
      "outputs": []
    },
    {
      "cell_type": "markdown",
      "source": [
        "**jumbaris adalah jumlah baris oada citra shape dan citra.shape yaitu yaitu gambaran properti intrinsik dari objek 3 dimensi dan jumKolom adalah jumlah kolom yang ada di dalam cotra tersebut, citra kontur = np.zeros yaitu adalah fungsi library numpy yang digunakan untuk mengembalikan array dengan bentuk dan ukuran yang sama dengan nilai elemen array sebagai nol**"
      ],
      "metadata": {
        "id": "aU55ewxhcT-A"
      }
    },
    {
      "cell_type": "code",
      "source": [
        "#Memperoleh kontur\n",
        "kontur, hierarki = cv2.findContours(citra, cv2.RETR_EXTERNAL, cv2.CHAIN_APPROX_NONE)"
      ],
      "metadata": {
        "id": "9tOJZxgREy57"
      },
      "execution_count": 4,
      "outputs": []
    },
    {
      "cell_type": "markdown",
      "source": [
        "**cv2.findcontours berfungsi untuk menemukan semua titik batas (x,y) dari suatu objek dalam gambar dan cv2.CHAIN_APPROX_NONE akan menyimpan semua data boundary points. cv2.RETR_EXTERNAL : mengembalikan outer countour.**"
      ],
      "metadata": {
        "id": "3Bla77hucWTw"
      }
    },
    {
      "cell_type": "code",
      "source": [
        "#Tambahkan kontur dengan warna lain\n",
        "warna = [(230, 216, 173), (255, 255, 255), (255, 255, 0), (255, 0, 255), (0, 255, 255)]\n",
        "for indeks in range(len(kontur)):\n",
        "  cv2.drawContours(citraKontur, kontur, indeks, warna[indeks % 5], 2)"
      ],
      "metadata": {
        "id": "B7EcrtzzE1cL"
      },
      "execution_count": 5,
      "outputs": []
    },
    {
      "cell_type": "markdown",
      "source": [
        "**fungsi drawContours dari OpenCV untuk menyimpan titik koordinat (x, y) dari garis kontur dalam sebuah array, kita dapat menggunakan titik-titik ini untuk menggambar garis kontur pada gambar dan untuk Program yang ini mencoba dengan merubah warna kontur dengan warna biru muda kuning putih dan ungu dengan menggunakan array matrix yang ada di atas**"
      ],
      "metadata": {
        "id": "mxpR8WQlcYp5"
      }
    },
    {
      "cell_type": "code",
      "source": [
        "from google.colab.patches import cv2_imshow"
      ],
      "metadata": {
        "id": "nC54aSV9FW6-"
      },
      "execution_count": 6,
      "outputs": []
    },
    {
      "cell_type": "markdown",
      "source": [
        "**Untuk meng import patch cv2.imshow agar bisa menampilkan gambar yang sudah di upload tadi**"
      ],
      "metadata": {
        "id": "vEcU58vScwxN"
      }
    },
    {
      "cell_type": "code",
      "source": [
        "#Tampilkan hasilnya\n",
        "citraRGB = cv2.merge((citra, citra, citra))\n",
        "hasil = np.hstack((citraRGB, citraKontur))\n",
        "cv2_imshow(citraKontur)\n",
        "cv2.waitKey()"
      ],
      "metadata": {
        "colab": {
          "base_uri": "https://localhost:8080/",
          "height": 407
        },
        "id": "1GczZZyNFhGw",
        "outputId": "b21c1e01-78dd-400b-883d-644d6501bae7"
      },
      "execution_count": 7,
      "outputs": [
        {
          "output_type": "display_data",
          "data": {
            "text/plain": [
              "<PIL.Image.Image image mode=RGB size=373x373 at 0x7FF93CFF3390>"
            ],
            "image/png": "[encoded data removed]"
          },
          "metadata": {}
        },
        {
          "output_type": "execute_result",
          "data": {
            "text/plain": [
              "-1"
            ]
          },
          "metadata": {},
          "execution_count": 7
        }
      ]
    },
    {
      "cell_type": "markdown",
      "source": [
        "**Untuk Menampilkan gambar kita menggunakan cv2.imshow dan np.hstack yaitu berfungsi untuk menggabungkan urutan array secara horizontal untuk membuat array tunggal dan hasil di atas menampilkan gambar dengan citra kontur yang sudah di rubah dengan citra rgb** "
      ],
      "metadata": {
        "id": "4dcpMwwicx6u"
      }
    }
  ]
}