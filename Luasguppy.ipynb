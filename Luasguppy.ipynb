{
  "nbformat": 4,
  "nbformat_minor": 0,
  "metadata": {
    "colab": {
      "provenance": [],
      "collapsed_sections": []
    },
    "kernelspec": {
      "name": "python3",
      "display_name": "Python 3"
    },
    "language_info": {
      "name": "python"
    }
  },
  "cells": [
    {
      "cell_type": "code",
      "execution_count": 9,
      "metadata": {
        "id": "ul7pDvXm19uk"
      },
      "outputs": [],
      "source": [
        "#Perhitungan luas\n",
        "import cv2"
      ]
    },
    {
      "cell_type": "code",
      "source": [
        "#Baca citra biner \n",
        "citra = cv2.imread(\"guppy.jpeg\", 0)"
      ],
      "metadata": {
        "id": "PfZAF-DQ2Klq"
      },
      "execution_count": 10,
      "outputs": []
    },
    {
      "cell_type": "code",
      "source": [
        "#Peroleh kontur\n",
        "kontur, hierarki = cv2.findContours(citra, cv2.RETR_EXTERNAL, cv2.CHAIN_APPROX_NONE)"
      ],
      "metadata": {
        "id": "k8rsZYa92Smj"
      },
      "execution_count": 11,
      "outputs": []
    },
    {
      "cell_type": "code",
      "source": [
        "#Peroleh luas\n",
        "luas = cv2.contourArea(kontur[0], False)\n",
        "\n",
        "print(\"Luas = \", luas)"
      ],
      "metadata": {
        "colab": {
          "base_uri": "https://localhost:8080/"
        },
        "id": "nf16kawt2jC6",
        "outputId": "b4358317-7117-4a60-960d-544027e1a305"
      },
      "execution_count": 12,
      "outputs": [
        {
          "output_type": "stream",
          "name": "stdout",
          "text": [
            "Luas =  18448.5\n"
          ]
        }
      ]
    },
    {
      "cell_type": "markdown",
      "source": [
        "**Berikut adalah hasil luas dari citra guppy dengan menggunakan perhitungan contourArea**"
      ],
      "metadata": {
        "id": "y7lSW_EfrrJx"
      }
    }
  ]
}