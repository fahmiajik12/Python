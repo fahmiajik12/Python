{
  "nbformat": 4,
  "nbformat_minor": 0,
  "metadata": {
    "colab": {
      "name": "Project -aas-K-NN.ipynb",
      "provenance": [],
      "collapsed_sections": []
    },
    "kernelspec": {
      "name": "python3",
      "display_name": "Python 3"
    },
    "language_info": {
      "name": "python"
    }
  },
  "cells": [
    {
      "cell_type": "code",
      "metadata": {
        "id": "7zf8cBs8ffng"
      },
      "source": [
        "import numpy as np\n",
        "import matplotlib.pyplot as plt\n",
        "import pandas as pd"
      ],
      "execution_count": 1,
      "outputs": []
    },
    {
      "cell_type": "code",
      "metadata": {
        "id": "GhGcvsE5gKbK"
      },
      "source": [
        "dataset = pd.read_csv('data-penyakit-tidak-menular-berdasarkan-kecamatan-magelang.csv')"
      ],
      "execution_count": 2,
      "outputs": []
    },
    {
      "cell_type": "markdown",
      "metadata": {
        "id": "k2_yjymNgLAJ"
      },
      "source": [
        "dataset.head() digunakan untuk melihat 5 data teratas"
      ]
    },
    {
      "cell_type": "code",
      "metadata": {
        "colab": {
          "base_uri": "https://localhost:8080/",
          "height": 206
        },
        "id": "wvppLbHfgN41",
        "outputId": "840a1030-f779-4d81-87a2-08c9ec2c7a58"
      },
      "source": [
        "dataset.head()"
      ],
      "execution_count": 3,
      "outputs": [
        {
          "output_type": "execute_result",
          "data": {
            "text/plain": [
              "          Kecamatan  Hipertensi  Diabetes Mellitus  Rawat Inap\n",
              "0   Magelang Tengah        4283                875           0\n",
              "1  Magelang Selatan        7985               1369           1\n",
              "2    Magelang Utara        2355                963           1\n",
              "3          Tempuran        4004               1130           1\n",
              "4           Salaman        2126                453           0"
            ],
            "text/html": [
              "\n",
              "  <div id=\"df-d5ee66da-0c23-4427-aef4-45daf9b4556c\">\n",
              "    <div class=\"colab-df-container\">\n",
              "      <div>\n",
              "<style scoped>\n",
              "    .dataframe tbody tr th:only-of-type {\n",
              "        vertical-align: middle;\n",
              "    }\n",
              "\n",
              "    .dataframe tbody tr th {\n",
              "        vertical-align: top;\n",
              "    }\n",
              "\n",
              "    .dataframe thead th {\n",
              "        text-align: right;\n",
              "    }\n",
              "</style>\n",
              "<table border=\"1\" class=\"dataframe\">\n",
              "  <thead>\n",
              "    <tr style=\"text-align: right;\">\n",
              "      <th></th>\n",
              "      <th>Kecamatan</th>\n",
              "      <th>Hipertensi</th>\n",
              "      <th>Diabetes Mellitus</th>\n",
              "      <th>Rawat Inap</th>\n",
              "    </tr>\n",
              "  </thead>\n",
              "  <tbody>\n",
              "    <tr>\n",
              "      <th>0</th>\n",
              "      <td>Magelang Tengah</td>\n",
              "      <td>4283</td>\n",
              "      <td>875</td>\n",
              "      <td>0</td>\n",
              "    </tr>\n",
              "    <tr>\n",
              "      <th>1</th>\n",
              "      <td>Magelang Selatan</td>\n",
              "      <td>7985</td>\n",
              "      <td>1369</td>\n",
              "      <td>1</td>\n",
              "    </tr>\n",
              "    <tr>\n",
              "      <th>2</th>\n",
              "      <td>Magelang Utara</td>\n",
              "      <td>2355</td>\n",
              "      <td>963</td>\n",
              "      <td>1</td>\n",
              "    </tr>\n",
              "    <tr>\n",
              "      <th>3</th>\n",
              "      <td>Tempuran</td>\n",
              "      <td>4004</td>\n",
              "      <td>1130</td>\n",
              "      <td>1</td>\n",
              "    </tr>\n",
              "    <tr>\n",
              "      <th>4</th>\n",
              "      <td>Salaman</td>\n",
              "      <td>2126</td>\n",
              "      <td>453</td>\n",
              "      <td>0</td>\n",
              "    </tr>\n",
              "  </tbody>\n",
              "</table>\n",
              "</div>\n",
              "      <button class=\"colab-df-convert\" onclick=\"convertToInteractive('df-d5ee66da-0c23-4427-aef4-45daf9b4556c')\"\n",
              "              title=\"Convert this dataframe to an interactive table.\"\n",
              "              style=\"display:none;\">\n",
              "        \n",
              "  <svg xmlns=\"http://www.w3.org/2000/svg\" height=\"24px\"viewBox=\"0 0 24 24\"\n",
              "       width=\"24px\">\n",
              "    <path d=\"M0 0h24v24H0V0z\" fill=\"none\"/>\n",
              "    <path d=\"M18.56 5.44l.94 2.06.94-2.06 2.06-.94-2.06-.94-.94-2.06-.94 2.06-2.06.94zm-11 1L8.5 8.5l.94-2.06 2.06-.94-2.06-.94L8.5 2.5l-.94 2.06-2.06.94zm10 10l.94 2.06.94-2.06 2.06-.94-2.06-.94-.94-2.06-.94 2.06-2.06.94z\"/><path d=\"M17.41 7.96l-1.37-1.37c-.4-.4-.92-.59-1.43-.59-.52 0-1.04.2-1.43.59L10.3 9.45l-7.72 7.72c-.78.78-.78 2.05 0 2.83L4 21.41c.39.39.9.59 1.41.59.51 0 1.02-.2 1.41-.59l7.78-7.78 2.81-2.81c.8-.78.8-2.07 0-2.86zM5.41 20L4 18.59l7.72-7.72 1.47 1.35L5.41 20z\"/>\n",
              "  </svg>\n",
              "      </button>\n",
              "      \n",
              "  <style>\n",
              "    .colab-df-container {\n",
              "      display:flex;\n",
              "      flex-wrap:wrap;\n",
              "      gap: 12px;\n",
              "    }\n",
              "\n",
              "    .colab-df-convert {\n",
              "      background-color: #E8F0FE;\n",
              "      border: none;\n",
              "      border-radius: 50%;\n",
              "      cursor: pointer;\n",
              "      display: none;\n",
              "      fill: #1967D2;\n",
              "      height: 32px;\n",
              "      padding: 0 0 0 0;\n",
              "      width: 32px;\n",
              "    }\n",
              "\n",
              "    .colab-df-convert:hover {\n",
              "      background-color: #E2EBFA;\n",
              "      box-shadow: 0px 1px 2px rgba(60, 64, 67, 0.3), 0px 1px 3px 1px rgba(60, 64, 67, 0.15);\n",
              "      fill: #174EA6;\n",
              "    }\n",
              "\n",
              "    [theme=dark] .colab-df-convert {\n",
              "      background-color: #3B4455;\n",
              "      fill: #D2E3FC;\n",
              "    }\n",
              "\n",
              "    [theme=dark] .colab-df-convert:hover {\n",
              "      background-color: #434B5C;\n",
              "      box-shadow: 0px 1px 3px 1px rgba(0, 0, 0, 0.15);\n",
              "      filter: drop-shadow(0px 1px 2px rgba(0, 0, 0, 0.3));\n",
              "      fill: #FFFFFF;\n",
              "    }\n",
              "  </style>\n",
              "\n",
              "      <script>\n",
              "        const buttonEl =\n",
              "          document.querySelector('#df-d5ee66da-0c23-4427-aef4-45daf9b4556c button.colab-df-convert');\n",
              "        buttonEl.style.display =\n",
              "          google.colab.kernel.accessAllowed ? 'block' : 'none';\n",
              "\n",
              "        async function convertToInteractive(key) {\n",
              "          const element = document.querySelector('#df-d5ee66da-0c23-4427-aef4-45daf9b4556c');\n",
              "          const dataTable =\n",
              "            await google.colab.kernel.invokeFunction('convertToInteractive',\n",
              "                                                     [key], {});\n",
              "          if (!dataTable) return;\n",
              "\n",
              "          const docLinkHtml = 'Like what you see? Visit the ' +\n",
              "            '<a target=\"_blank\" href=https://colab.research.google.com/notebooks/data_table.ipynb>data table notebook</a>'\n",
              "            + ' to learn more about interactive tables.';\n",
              "          element.innerHTML = '';\n",
              "          dataTable['output_type'] = 'display_data';\n",
              "          await google.colab.output.renderOutput(dataTable, element);\n",
              "          const docLink = document.createElement('div');\n",
              "          docLink.innerHTML = docLinkHtml;\n",
              "          element.appendChild(docLink);\n",
              "        }\n",
              "      </script>\n",
              "    </div>\n",
              "  </div>\n",
              "  "
            ]
          },
          "metadata": {},
          "execution_count": 3
        }
      ]
    },
    {
      "cell_type": "markdown",
      "metadata": {
        "id": "i5W8w0mUgfPo"
      },
      "source": [
        "kita bagi ke dalam variabel x, dan variabel y.\n",
        "\n",
        "Untuk variabel x (reguler atribut) adalah kolom ke 2, dan kolom ke 3\n",
        "\n",
        "Untuk variabel y (label) adalah kolom terakhir (-1)\n",
        "\n",
        "//iloc digunakan untuk mengambil baris dan kolom"
      ]
    },
    {
      "cell_type": "code",
      "metadata": {
        "id": "RPl3Q6wrgg3m"
      },
      "source": [
        "x = dataset.iloc[:, [2,3]].values\n",
        "y = dataset.iloc[:, -1].values"
      ],
      "execution_count": 15,
      "outputs": []
    },
    {
      "cell_type": "code",
      "metadata": {
        "colab": {
          "base_uri": "https://localhost:8080/"
        },
        "id": "ROpUtdKzglwr",
        "outputId": "1142bd25-eed9-4bf0-fd00-54efaf4de16e"
      },
      "source": [
        "print(x)"
      ],
      "execution_count": 18,
      "outputs": [
        {
          "output_type": "stream",
          "name": "stdout",
          "text": [
            "[[ 875    0]\n",
            " [1369    1]\n",
            " [ 963    1]\n",
            " [1130    1]\n",
            " [ 453    0]\n",
            " [1053    1]\n",
            " [ 242    0]\n",
            " [ 234    1]\n",
            " [ 630    0]\n",
            " [1006    1]\n",
            " [ 330    1]\n",
            " [2493    1]\n",
            " [1049    0]\n",
            " [ 909    0]\n",
            " [ 499    0]\n",
            " [ 584    1]\n",
            " [ 878    0]\n",
            " [ 429    1]\n",
            " [ 829    1]\n",
            " [1164    0]\n",
            " [ 386    0]\n",
            " [1918    0]\n",
            " [ 386    0]\n",
            " [ 102    0]]\n"
          ]
        }
      ]
    },
    {
      "cell_type": "code",
      "metadata": {
        "colab": {
          "base_uri": "https://localhost:8080/"
        },
        "id": "BKuTE0vxgoQ4",
        "outputId": "5738b7d2-e520-460b-db28-20d89cf1cfb9"
      },
      "source": [
        "print(y)"
      ],
      "execution_count": 17,
      "outputs": [
        {
          "output_type": "stream",
          "name": "stdout",
          "text": [
            "[0 1 1 1 0 1 0 1 0 1 1 1 0 0 0 1 0 1 1 0 0 0 0 0]\n"
          ]
        }
      ]
    },
    {
      "cell_type": "markdown",
      "metadata": {
        "id": "wrzq6tcvguwm"
      },
      "source": [
        "kita bagi data training dan data testing nya"
      ]
    },
    {
      "cell_type": "code",
      "metadata": {
        "id": "-Jtva4zlgwHv"
      },
      "source": [
        "from sklearn.model_selection import train_test_split\n",
        "x_train, x_test, y_train, y_test = train_test_split(x, y, test_size = 0.25, random_state = 0)"
      ],
      "execution_count": 19,
      "outputs": []
    },
    {
      "cell_type": "markdown",
      "metadata": {
        "id": "KMZBrAzQg10V"
      },
      "source": [
        "setelah dibagi, jumlah x_train kurang lebih jadi 22"
      ]
    },
    {
      "cell_type": "code",
      "metadata": {
        "colab": {
          "base_uri": "https://localhost:8080/"
        },
        "id": "1LNy65ilg2up",
        "outputId": "0f8df121-6658-456f-d42c-ea8daeba138e"
      },
      "source": [
        "print(x_train)"
      ],
      "execution_count": 22,
      "outputs": [
        {
          "output_type": "stream",
          "name": "stdout",
          "text": [
            "[[ 909    0]\n",
            " [ 102    0]\n",
            " [ 878    0]\n",
            " [ 630    0]\n",
            " [ 242    0]\n",
            " [ 429    1]\n",
            " [ 453    0]\n",
            " [ 963    1]\n",
            " [1053    1]\n",
            " [ 829    1]\n",
            " [1006    1]\n",
            " [ 234    1]\n",
            " [1164    0]\n",
            " [1130    1]\n",
            " [ 875    0]\n",
            " [1918    0]\n",
            " [ 584    1]\n",
            " [1049    0]]\n"
          ]
        }
      ]
    },
    {
      "cell_type": "markdown",
      "metadata": {
        "id": "WR1lTDCWg-dB"
      },
      "source": [
        "kita hitung jumlah x_train nya (untuk membuktikan)\n",
        "\n"
      ]
    },
    {
      "cell_type": "code",
      "metadata": {
        "colab": {
          "base_uri": "https://localhost:8080/"
        },
        "id": "RXpwjFjqg_JJ",
        "outputId": "5bc192ae-fadc-469b-dc7f-6b3739e61a2d"
      },
      "source": [
        "len(x_train)"
      ],
      "execution_count": 21,
      "outputs": [
        {
          "output_type": "execute_result",
          "data": {
            "text/plain": [
              "18"
            ]
          },
          "metadata": {},
          "execution_count": 21
        }
      ]
    },
    {
      "cell_type": "markdown",
      "metadata": {
        "id": "JA0Jc9J6hGki"
      },
      "source": [
        "untuk jumlah data keseluruhan pada variabel x, kurang lebih ada 30"
      ]
    },
    {
      "cell_type": "code",
      "metadata": {
        "colab": {
          "base_uri": "https://localhost:8080/"
        },
        "id": "gbBCQfD-hHh9",
        "outputId": "86e7fa24-4b51-44a1-87d5-2be798fc7ee4"
      },
      "source": [
        "len(x)"
      ],
      "execution_count": 23,
      "outputs": [
        {
          "output_type": "execute_result",
          "data": {
            "text/plain": [
              "24"
            ]
          },
          "metadata": {},
          "execution_count": 23
        }
      ]
    },
    {
      "cell_type": "markdown",
      "metadata": {
        "id": "qofuGdX0hRJx"
      },
      "source": [
        "kita hitung juga atribut x_testnya"
      ]
    },
    {
      "cell_type": "code",
      "metadata": {
        "id": "OED7VASjhQjs",
        "colab": {
          "base_uri": "https://localhost:8080/"
        },
        "outputId": "e418b4a4-aefa-4aef-9528-261e538ba768"
      },
      "source": [
        "len(x_test)"
      ],
      "execution_count": 24,
      "outputs": [
        {
          "output_type": "execute_result",
          "data": {
            "text/plain": [
              "6"
            ]
          },
          "metadata": {},
          "execution_count": 24
        }
      ]
    },
    {
      "cell_type": "markdown",
      "metadata": {
        "id": "2mO99CX0hXDG"
      },
      "source": [
        "Untuk jumlah total variabel y kurang lebih juga ada 30"
      ]
    },
    {
      "cell_type": "code",
      "metadata": {
        "id": "qq_KGPSWhZMm",
        "colab": {
          "base_uri": "https://localhost:8080/"
        },
        "outputId": "db135ba7-7538-4d8f-b729-70ab7d6fc35d"
      },
      "source": [
        "len(y)"
      ],
      "execution_count": 25,
      "outputs": [
        {
          "output_type": "execute_result",
          "data": {
            "text/plain": [
              "24"
            ]
          },
          "metadata": {},
          "execution_count": 25
        }
      ]
    },
    {
      "cell_type": "markdown",
      "metadata": {
        "id": "6p5VAcnShgGe"
      },
      "source": [
        "kita hitung jumlah data yang ada pada atribut y_test, kurang lebih ada 8 data"
      ]
    },
    {
      "cell_type": "code",
      "metadata": {
        "colab": {
          "base_uri": "https://localhost:8080/"
        },
        "id": "XmYy7J6Ohg-H",
        "outputId": "c165625f-6fe7-4387-c243-e2441da871a7"
      },
      "source": [
        "len(y_test)"
      ],
      "execution_count": 26,
      "outputs": [
        {
          "output_type": "execute_result",
          "data": {
            "text/plain": [
              "6"
            ]
          },
          "metadata": {},
          "execution_count": 26
        }
      ]
    },
    {
      "cell_type": "markdown",
      "metadata": {
        "id": "utcLK-FLhsck"
      },
      "source": [
        "jumlah data pada atribut y_train setelah dibagi, total kurang lebih ada 22 data"
      ]
    },
    {
      "cell_type": "code",
      "metadata": {
        "colab": {
          "base_uri": "https://localhost:8080/"
        },
        "id": "ubjOGVGqhyRh",
        "outputId": "c8977fa7-734d-49ee-9a4b-a6f2365e82e8"
      },
      "source": [
        "len(y_train)"
      ],
      "execution_count": 27,
      "outputs": [
        {
          "output_type": "execute_result",
          "data": {
            "text/plain": [
              "18"
            ]
          },
          "metadata": {},
          "execution_count": 27
        }
      ]
    },
    {
      "cell_type": "markdown",
      "metadata": {
        "id": "dSZFn07Fh3w1"
      },
      "source": [
        "Karena jarak (skala) data yang ada pada variabel x terlalu besar(terlalu jauh), contohnya [429, ke 1], maka kita lakukan scaling menggunakan Standard Scaler"
      ]
    },
    {
      "cell_type": "code",
      "metadata": {
        "id": "-pbgsiiAh6lr"
      },
      "source": [
        "from sklearn.preprocessing import StandardScaler\n",
        "sc = StandardScaler()\n",
        "x_train = sc.fit_transform(x_train)\n",
        "x_test = sc.transform(x_test)"
      ],
      "execution_count": 28,
      "outputs": []
    },
    {
      "cell_type": "code",
      "metadata": {
        "colab": {
          "base_uri": "https://localhost:8080/"
        },
        "id": "MKRJZIaah_Ff",
        "outputId": "a5f61597-4a1d-48cc-c080-a7ceb13c0b4e"
      },
      "source": [
        "print(x_train)"
      ],
      "execution_count": 29,
      "outputs": [
        {
          "output_type": "stream",
          "name": "stdout",
          "text": [
            "[[ 0.25365566 -0.89442719]\n",
            " [-1.67142379 -0.89442719]\n",
            " [ 0.17970589 -0.89442719]\n",
            " [-0.41189226 -0.89442719]\n",
            " [-1.3374571  -0.89442719]\n",
            " [-0.89137301  1.11803399]\n",
            " [-0.83412158 -0.89442719]\n",
            " [ 0.38247138  1.11803399]\n",
            " [ 0.59716426  1.11803399]\n",
            " [ 0.06281755  1.11803399]\n",
            " [ 0.48504687  1.11803399]\n",
            " [-1.35654091  1.11803399]\n",
            " [ 0.86195214 -0.89442719]\n",
            " [ 0.78084594  1.11803399]\n",
            " [ 0.17254946 -0.89442719]\n",
            " [ 2.66060134 -0.89442719]\n",
            " [-0.52162417  1.11803399]\n",
            " [ 0.58762235 -0.89442719]]\n"
          ]
        }
      ]
    },
    {
      "cell_type": "code",
      "metadata": {
        "colab": {
          "base_uri": "https://localhost:8080/"
        },
        "id": "ygc2vLnJiED9",
        "outputId": "225ea5d9-f9b9-4bb8-d2fb-e11162ffbe4e"
      },
      "source": [
        "print(x_test)"
      ],
      "execution_count": 30,
      "outputs": [
        {
          "output_type": "stream",
          "name": "stdout",
          "text": [
            "[[ 4.03225027  1.11803399]\n",
            " [-1.12753518  1.11803399]\n",
            " [-0.9939485  -0.89442719]\n",
            " [-0.72438967 -0.89442719]\n",
            " [-0.9939485  -0.89442719]\n",
            " [ 1.3509748   1.11803399]]\n"
          ]
        }
      ]
    },
    {
      "cell_type": "markdown",
      "metadata": {
        "id": "OjIFZcfQiJ-t"
      },
      "source": [
        "panggil function K-NN nya, karena kita akan mengklasifikasi"
      ]
    },
    {
      "cell_type": "code",
      "metadata": {
        "colab": {
          "base_uri": "https://localhost:8080/"
        },
        "id": "3Tv8hCGiiOza",
        "outputId": "3c131819-6478-4b14-819d-1505079b73ab"
      },
      "source": [
        "from sklearn.neighbors import KNeighborsClassifier\n",
        "classifier = KNeighborsClassifier(n_neighbors = 5, metric = 'minkowski', p=2)\n",
        "classifier.fit(x_train, y_train)"
      ],
      "execution_count": 31,
      "outputs": [
        {
          "output_type": "execute_result",
          "data": {
            "text/plain": [
              "KNeighborsClassifier()"
            ]
          },
          "metadata": {},
          "execution_count": 31
        }
      ]
    },
    {
      "cell_type": "markdown",
      "metadata": {
        "id": "agHinhRqiTt7"
      },
      "source": [
        "kita tentukan untuk prediksinya"
      ]
    },
    {
      "cell_type": "code",
      "metadata": {
        "id": "tfiz9PKDiUjJ"
      },
      "source": [
        "y_pred = classifier.predict(x_test)"
      ],
      "execution_count": 32,
      "outputs": []
    },
    {
      "cell_type": "markdown",
      "metadata": {
        "id": "XMd9xfOEifM0"
      },
      "source": [
        "hitung untuk evaluasi/validasinya menggunakan confusion_matrix."
      ]
    },
    {
      "cell_type": "code",
      "metadata": {
        "colab": {
          "base_uri": "https://localhost:8080/"
        },
        "id": "KI45zFxEiiAr",
        "outputId": "a2817f99-64de-497d-d693-a022f0520d31"
      },
      "source": [
        "from sklearn.metrics import confusion_matrix\n",
        "cm = confusion_matrix(y_test, y_pred)\n",
        "print(cm)"
      ],
      "execution_count": 33,
      "outputs": [
        {
          "output_type": "stream",
          "name": "stdout",
          "text": [
            "[[3 0]\n",
            " [0 3]]\n"
          ]
        }
      ]
    },
    {
      "cell_type": "markdown",
      "metadata": {
        "id": "nqB4QWHnismK"
      },
      "source": [
        "gambarkan persebaran data trainingnya"
      ]
    },
    {
      "cell_type": "code",
      "metadata": {
        "colab": {
          "base_uri": "https://localhost:8080/",
          "height": 350
        },
        "id": "dQ7Bw1RKitD1",
        "outputId": "78d046e5-4bc6-494d-e20f-9a3420884837"
      },
      "source": [
        "from matplotlib.colors import ListedColormap\n",
        "x_set, y_set = x_train, y_train\n",
        "x1, x2 = np.meshgrid(np.arange(start=x_set[:, 0].min()-1, stop=x_set[:, 0].max()+1, step=0.01), \n",
        "                               np.arange(start=x_set[:, 1].min()-1, stop=x_set[:, 1].max()+1, step=0.01))\n",
        "plt.contourf(x1, x2, classifier.predict(np.array([x1.ravel(), x2.ravel()]).T).reshape(x1.shape),\n",
        "             alpha = 0.75, cmap = ListedColormap(('red', 'green')))\n",
        "plt.xlim(x1.min(), x1.max())\n",
        "plt.ylim(x2.min(), x2.max())\n",
        "for i, j in enumerate (np.unique(y_set)):\n",
        "  plt.scatter(x_set[y_set == j, 0], x_set[y_set == j, 1], \n",
        "              c = ListedColormap(('red', 'green'))(i), label = j)\n",
        "plt.title('Klasifikasi Data dengan K-NN (Data Training)')\n",
        "plt.xlabel('Umur')\n",
        "plt.ylabel('Estimasi Gaji')\n",
        "plt.legend()\n",
        "plt.show()"
      ],
      "execution_count": 34,
      "outputs": [
        {
          "output_type": "stream",
          "name": "stderr",
          "text": [
            "*c* argument looks like a single numeric RGB or RGBA sequence, which should be avoided as value-mapping will have precedence in case its length matches with *x* & *y*.  Please use the *color* keyword-argument or provide a 2-D array with a single row if you intend to specify the same RGB or RGBA value for all points.\n",
            "*c* argument looks like a single numeric RGB or RGBA sequence, which should be avoided as value-mapping will have precedence in case its length matches with *x* & *y*.  Please use the *color* keyword-argument or provide a 2-D array with a single row if you intend to specify the same RGB or RGBA value for all points.\n"
          ]
        },
        {
          "output_type": "display_data",
          "data": {
            "text/plain": [
              "<Figure size 432x288 with 1 Axes>"
            ],
            "image/png": "[encoded data removed]"
          },
          "metadata": {
            "needs_background": "light"
          }
        }
      ]
    },
    {
      "cell_type": "markdown",
      "metadata": {
        "id": "qFjIfakai1Xt"
      },
      "source": [
        "kita lihat persebaran data testingnya"
      ]
    },
    {
      "cell_type": "code",
      "metadata": {
        "colab": {
          "base_uri": "https://localhost:8080/",
          "height": 350
        },
        "id": "6OmwQdVOi1-_",
        "outputId": "203527f2-1e77-4a15-aada-b1b74b052532"
      },
      "source": [
        "from matplotlib.colors import ListedColormap\n",
        "x_set, y_set = x_test, y_test\n",
        "x1, x2 = np.meshgrid(np.arange(start=x_set[:, 0].min()-1, stop=x_set[:, 0].max()+1, step=0.01), \n",
        "                               np.arange(start=x_set[:, 1].min()-1, stop=x_set[:, 1].max()+1, step=0.01))\n",
        "plt.contourf(x1, x2, classifier.predict(np.array([x1.ravel(), x2.ravel()]).T).reshape(x1.shape),\n",
        "             alpha = 0.75, cmap = ListedColormap(('red', 'green')))\n",
        "plt.xlim(x1.min(), x1.max())\n",
        "plt.ylim(x2.min(), x2.max())\n",
        "for i, j in enumerate (np.unique(y_set)):\n",
        "  plt.scatter(x_set[y_set == j, 0], x_set[y_set == j, 1], \n",
        "              c = ListedColormap(('red', 'green'))(i), label = j)\n",
        "plt.title('Klasifikasi Data dengan K-NN (Data Testing)')\n",
        "plt.xlabel('Umur')\n",
        "plt.ylabel('Estimasi Gaji')\n",
        "plt.legend()\n",
        "plt.show()"
      ],
      "execution_count": 35,
      "outputs": [
        {
          "output_type": "stream",
          "name": "stderr",
          "text": [
            "*c* argument looks like a single numeric RGB or RGBA sequence, which should be avoided as value-mapping will have precedence in case its length matches with *x* & *y*.  Please use the *color* keyword-argument or provide a 2-D array with a single row if you intend to specify the same RGB or RGBA value for all points.\n",
            "*c* argument looks like a single numeric RGB or RGBA sequence, which should be avoided as value-mapping will have precedence in case its length matches with *x* & *y*.  Please use the *color* keyword-argument or provide a 2-D array with a single row if you intend to specify the same RGB or RGBA value for all points.\n"
          ]
        },
        {
          "output_type": "display_data",
          "data": {
            "text/plain": [
              "<Figure size 432x288 with 1 Axes>"
            ],
            "image/png": "[encoded data removed]"
          },
          "metadata": {
            "needs_background": "light"
          }
        }
      ]
    }
  ]
}