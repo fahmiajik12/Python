{
  "nbformat": 4,
  "nbformat_minor": 0,
  "metadata": {
    "colab": {
      "provenance": []
    },
    "kernelspec": {
      "name": "python3",
      "display_name": "Python 3"
    },
    "language_info": {
      "name": "python"
    }
  },
  "cells": [
    {
      "cell_type": "code",
      "execution_count": 1,
      "metadata": {
        "id": "Rm2aozvU8cQh"
      },
      "outputs": [],
      "source": [
        "#Convex hull\n",
        "import cv2"
      ]
    },
    {
      "cell_type": "markdown",
      "source": [
        "**Convex Hull adalah permasalahan di mana kita diminta untuk membentuk suatu curva yang mampu meng cover semua himpunan titik dengan jumlah garis yang paling minimal**"
      ],
      "metadata": {
        "id": "_Wp9XEqK1BCS"
      }
    },
    {
      "cell_type": "code",
      "source": [
        "#Baca citra biner\n",
        "citra = cv2.imread(\"guppy.jpeg\", 0)\n",
        "\n",
        "citraBerwarna = cv2.merge((citra, citra, citra))"
      ],
      "metadata": {
        "id": "VpQIXZZf81nA"
      },
      "execution_count": 2,
      "outputs": []
    },
    {
      "cell_type": "code",
      "source": [
        "#Peroleh kontur\n",
        "kontur, hierarki = cv2.findContours(citra, cv2.RETR_EXTERNAL, cv2.CHAIN_APPROX_NONE)"
      ],
      "metadata": {
        "id": "pYd31sbx845O"
      },
      "execution_count": 3,
      "outputs": []
    },
    {
      "cell_type": "code",
      "source": [
        "#Peroleh convex hull\n",
        "convex = cv2.convexHull(kontur[0])"
      ],
      "metadata": {
        "id": "RnbJNqrs88EZ"
      },
      "execution_count": 4,
      "outputs": []
    },
    {
      "cell_type": "markdown",
      "source": [
        "**cv2.convexhull berfungsi sebagai menggambar curva tepi untuk mengcover semua himpunan titik dengan jumlah paling sedikit** "
      ],
      "metadata": {
        "id": "q67xVEpn1jfx"
      }
    },
    {
      "cell_type": "code",
      "source": [
        "#Tampilkan convex hull\n",
        "cv2.drawContours(citraBerwarna, [convex], -1, (255, 255, 0), 2)"
      ],
      "metadata": {
        "colab": {
          "base_uri": "https://localhost:8080/"
        },
        "id": "MrpbfPK09EQ4",
        "outputId": "3bb1a73e-2b23-45bd-8c02-6675bd12fa83"
      },
      "execution_count": 5,
      "outputs": [
        {
          "output_type": "execute_result",
          "data": {
            "text/plain": [
              "array([[[0, 0, 0],\n",
              "        [0, 0, 0],\n",
              "        [0, 0, 0],\n",
              "        ...,\n",
              "        [0, 0, 0],\n",
              "        [0, 0, 0],\n",
              "        [0, 0, 0]],\n",
              "\n",
              "       [[0, 0, 0],\n",
              "        [0, 0, 0],\n",
              "        [0, 0, 0],\n",
              "        ...,\n",
              "        [0, 0, 0],\n",
              "        [0, 0, 0],\n",
              "        [0, 0, 0]],\n",
              "\n",
              "       [[0, 0, 0],\n",
              "        [0, 0, 0],\n",
              "        [0, 0, 0],\n",
              "        ...,\n",
              "        [0, 0, 0],\n",
              "        [0, 0, 0],\n",
              "        [0, 0, 0]],\n",
              "\n",
              "       ...,\n",
              "\n",
              "       [[0, 0, 0],\n",
              "        [0, 0, 0],\n",
              "        [0, 0, 0],\n",
              "        ...,\n",
              "        [0, 0, 0],\n",
              "        [0, 0, 0],\n",
              "        [0, 0, 0]],\n",
              "\n",
              "       [[0, 0, 0],\n",
              "        [0, 0, 0],\n",
              "        [0, 0, 0],\n",
              "        ...,\n",
              "        [0, 0, 0],\n",
              "        [0, 0, 0],\n",
              "        [0, 0, 0]],\n",
              "\n",
              "       [[0, 0, 0],\n",
              "        [0, 0, 0],\n",
              "        [0, 0, 0],\n",
              "        ...,\n",
              "        [0, 0, 0],\n",
              "        [0, 0, 0],\n",
              "        [0, 0, 0]]], dtype=uint8)"
            ]
          },
          "metadata": {},
          "execution_count": 5
        }
      ]
    },
    {
      "cell_type": "code",
      "source": [
        "from google.colab.patches import cv2_imshow"
      ],
      "metadata": {
        "id": "uydzP53T9QeZ"
      },
      "execution_count": 6,
      "outputs": []
    },
    {
      "cell_type": "code",
      "source": [
        "#Tampilkan hasilnya\n",
        "cv2_imshow(citraBerwarna)\n",
        "cv2.waitKey()"
      ],
      "metadata": {
        "colab": {
          "base_uri": "https://localhost:8080/",
          "height": 190
        },
        "id": "zkto4TUX9T5l",
        "outputId": "a528d3c0-8d6e-4282-cda6-2d581fa23bc7"
      },
      "execution_count": 7,
      "outputs": [
        {
          "output_type": "display_data",
          "data": {
            "text/plain": [
              "<PIL.Image.Image image mode=RGB size=156x156 at 0x7FD4CCB4BE90>"
            ],
            "image/png": "[encoded data removed]"
          },
          "metadata": {}
        },
        {
          "output_type": "execute_result",
          "data": {
            "text/plain": [
              "-1"
            ]
          },
          "metadata": {},
          "execution_count": 7
        }
      ]
    },
    {
      "cell_type": "markdown",
      "source": [
        "**Hasil Gambar di atas adalah hasil gambar guppy yang sudah menggunakan cv.ConvexHull atau sudah memiliki gambar curva yang paling minimal**"
      ],
      "metadata": {
        "id": "OJPMBYEX1xtj"
      }
    }
  ]
}