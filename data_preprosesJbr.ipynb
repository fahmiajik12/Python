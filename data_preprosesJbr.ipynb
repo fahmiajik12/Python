{
  "nbformat": 4,
  "nbformat_minor": 0,
  "metadata": {
    "colab": {
      "provenance": [],
      "include_colab_link": true
    },
    "kernelspec": {
      "name": "python3",
      "display_name": "Python 3"
    },
    "language_info": {
      "name": "python"
    }
  },
  "cells": [
    {
      "cell_type": "markdown",
      "metadata": {
        "id": "view-in-github",
        "colab_type": "text"
      },
      "source": [
        "<a href=\"https://colab.research.google.com/github/fahmiajik12/Python/blob/Master/data_preprosesJbr.ipynb\" target=\"_parent\"><img src=\"https://colab.research.google.com/assets/colab-badge.svg\" alt=\"Open In Colab\"/></a>"
      ]
    },
    {
      "cell_type": "markdown",
      "source": [
        "Import Library"
      ],
      "metadata": {
        "id": "QA2WJuUdqg5Y"
      }
    },
    {
      "cell_type": "code",
      "execution_count": 585,
      "metadata": {
        "id": "diK6lSOwYBgn"
      },
      "outputs": [],
      "source": [
        "import numpy as np\n",
        "import pandas as pd\n",
        "import seaborn as sns\n",
        "import matplotlib.pyplot as plt"
      ]
    },
    {
      "cell_type": "markdown",
      "source": [
        "Load Dataset"
      ],
      "metadata": {
        "id": "UzMs2O0xq5KU"
      }
    },
    {
      "cell_type": "code",
      "source": [
        "#Koneksi ke Google Drive\n",
        "from google.colab import drive\n",
        "drive.mount('/content/drive')"
      ],
      "metadata": {
        "colab": {
          "base_uri": "https://localhost:8080/"
        },
        "id": "1Z5YoWAKYWOa",
        "outputId": "67a5a2c8-76bd-4763-8c62-bb80a58ef61d"
      },
      "execution_count": 586,
      "outputs": [
        {
          "output_type": "stream",
          "name": "stdout",
          "text": [
            "Drive already mounted at /content/drive; to attempt to forcibly remount, call drive.mount(\"/content/drive\", force_remount=True).\n"
          ]
        }
      ]
    },
    {
      "cell_type": "code",
      "source": [
        "#Load Data From Local File\n",
        "data=pd.read_csv('data.csv')"
      ],
      "metadata": {
        "id": "LhN665O2ZZLW"
      },
      "execution_count": 587,
      "outputs": []
    },
    {
      "cell_type": "markdown",
      "source": [
        "Data Understanding"
      ],
      "metadata": {
        "id": "ceUuqY4Iq9z5"
      }
    },
    {
      "cell_type": "code",
      "source": [
        "#See the first five data \n",
        "data.head()"
      ],
      "metadata": {
        "colab": {
          "base_uri": "https://localhost:8080/",
          "height": 206
        },
        "id": "kgFt0X72aL14",
        "outputId": "01f674d2-2a10-401c-bea6-5117f04f77ea"
      },
      "execution_count": 588,
      "outputs": [
        {
          "output_type": "execute_result",
          "data": {
            "text/plain": [
              "   id  kode_provinsi nama_provinsi  kode_kabupaten_kota nama_kabupaten_kota  \\\n",
              "0   1             32    JAWA BARAT                 3201     KABUPATEN BOGOR   \n",
              "1   2             32    JAWA BARAT                 3202  KABUPATEN SUKABUMI   \n",
              "2   3             32    JAWA BARAT                 3203   KABUPATEN CIANJUR   \n",
              "3   4             32    JAWA BARAT                 3204   KABUPATEN BANDUNG   \n",
              "4   5             32    JAWA BARAT                 3205     KABUPATEN GARUT   \n",
              "\n",
              "   jumlah_banjir    satuan  tahun  \n",
              "0              0  KEJADIAN   2012  \n",
              "1             20  KEJADIAN   2012  \n",
              "2              1  KEJADIAN   2012  \n",
              "3             17  KEJADIAN   2012  \n",
              "4              7  KEJADIAN   2012  "
            ],
            "text/html": [
              "\n",
              "  <div id=\"df-bb4e4909-91b8-426c-b6d1-1a3c14355e87\">\n",
              "    <div class=\"colab-df-container\">\n",
              "      <div>\n",
              "<style scoped>\n",
              "    .dataframe tbody tr th:only-of-type {\n",
              "        vertical-align: middle;\n",
              "    }\n",
              "\n",
              "    .dataframe tbody tr th {\n",
              "        vertical-align: top;\n",
              "    }\n",
              "\n",
              "    .dataframe thead th {\n",
              "        text-align: right;\n",
              "    }\n",
              "</style>\n",
              "<table border=\"1\" class=\"dataframe\">\n",
              "  <thead>\n",
              "    <tr style=\"text-align: right;\">\n",
              "      <th></th>\n",
              "      <th>id</th>\n",
              "      <th>kode_provinsi</th>\n",
              "      <th>nama_provinsi</th>\n",
              "      <th>kode_kabupaten_kota</th>\n",
              "      <th>nama_kabupaten_kota</th>\n",
              "      <th>jumlah_banjir</th>\n",
              "      <th>satuan</th>\n",
              "      <th>tahun</th>\n",
              "    </tr>\n",
              "  </thead>\n",
              "  <tbody>\n",
              "    <tr>\n",
              "      <th>0</th>\n",
              "      <td>1</td>\n",
              "      <td>32</td>\n",
              "      <td>JAWA BARAT</td>\n",
              "      <td>3201</td>\n",
              "      <td>KABUPATEN BOGOR</td>\n",
              "      <td>0</td>\n",
              "      <td>KEJADIAN</td>\n",
              "      <td>2012</td>\n",
              "    </tr>\n",
              "    <tr>\n",
              "      <th>1</th>\n",
              "      <td>2</td>\n",
              "      <td>32</td>\n",
              "      <td>JAWA BARAT</td>\n",
              "      <td>3202</td>\n",
              "      <td>KABUPATEN SUKABUMI</td>\n",
              "      <td>20</td>\n",
              "      <td>KEJADIAN</td>\n",
              "      <td>2012</td>\n",
              "    </tr>\n",
              "    <tr>\n",
              "      <th>2</th>\n",
              "      <td>3</td>\n",
              "      <td>32</td>\n",
              "      <td>JAWA BARAT</td>\n",
              "      <td>3203</td>\n",
              "      <td>KABUPATEN CIANJUR</td>\n",
              "      <td>1</td>\n",
              "      <td>KEJADIAN</td>\n",
              "      <td>2012</td>\n",
              "    </tr>\n",
              "    <tr>\n",
              "      <th>3</th>\n",
              "      <td>4</td>\n",
              "      <td>32</td>\n",
              "      <td>JAWA BARAT</td>\n",
              "      <td>3204</td>\n",
              "      <td>KABUPATEN BANDUNG</td>\n",
              "      <td>17</td>\n",
              "      <td>KEJADIAN</td>\n",
              "      <td>2012</td>\n",
              "    </tr>\n",
              "    <tr>\n",
              "      <th>4</th>\n",
              "      <td>5</td>\n",
              "      <td>32</td>\n",
              "      <td>JAWA BARAT</td>\n",
              "      <td>3205</td>\n",
              "      <td>KABUPATEN GARUT</td>\n",
              "      <td>7</td>\n",
              "      <td>KEJADIAN</td>\n",
              "      <td>2012</td>\n",
              "    </tr>\n",
              "  </tbody>\n",
              "</table>\n",
              "</div>\n",
              "      <button class=\"colab-df-convert\" onclick=\"convertToInteractive('df-bb4e4909-91b8-426c-b6d1-1a3c14355e87')\"\n",
              "              title=\"Convert this dataframe to an interactive table.\"\n",
              "              style=\"display:none;\">\n",
              "        \n",
              "  <svg xmlns=\"http://www.w3.org/2000/svg\" height=\"24px\"viewBox=\"0 0 24 24\"\n",
              "       width=\"24px\">\n",
              "    <path d=\"M0 0h24v24H0V0z\" fill=\"none\"/>\n",
              "    <path d=\"M18.56 5.44l.94 2.06.94-2.06 2.06-.94-2.06-.94-.94-2.06-.94 2.06-2.06.94zm-11 1L8.5 8.5l.94-2.06 2.06-.94-2.06-.94L8.5 2.5l-.94 2.06-2.06.94zm10 10l.94 2.06.94-2.06 2.06-.94-2.06-.94-.94-2.06-.94 2.06-2.06.94z\"/><path d=\"M17.41 7.96l-1.37-1.37c-.4-.4-.92-.59-1.43-.59-.52 0-1.04.2-1.43.59L10.3 9.45l-7.72 7.72c-.78.78-.78 2.05 0 2.83L4 21.41c.39.39.9.59 1.41.59.51 0 1.02-.2 1.41-.59l7.78-7.78 2.81-2.81c.8-.78.8-2.07 0-2.86zM5.41 20L4 18.59l7.72-7.72 1.47 1.35L5.41 20z\"/>\n",
              "  </svg>\n",
              "      </button>\n",
              "      \n",
              "  <style>\n",
              "    .colab-df-container {\n",
              "      display:flex;\n",
              "      flex-wrap:wrap;\n",
              "      gap: 12px;\n",
              "    }\n",
              "\n",
              "    .colab-df-convert {\n",
              "      background-color: #E8F0FE;\n",
              "      border: none;\n",
              "      border-radius: 50%;\n",
              "      cursor: pointer;\n",
              "      display: none;\n",
              "      fill: #1967D2;\n",
              "      height: 32px;\n",
              "      padding: 0 0 0 0;\n",
              "      width: 32px;\n",
              "    }\n",
              "\n",
              "    .colab-df-convert:hover {\n",
              "      background-color: #E2EBFA;\n",
              "      box-shadow: 0px 1px 2px rgba(60, 64, 67, 0.3), 0px 1px 3px 1px rgba(60, 64, 67, 0.15);\n",
              "      fill: #174EA6;\n",
              "    }\n",
              "\n",
              "    [theme=dark] .colab-df-convert {\n",
              "      background-color: #3B4455;\n",
              "      fill: #D2E3FC;\n",
              "    }\n",
              "\n",
              "    [theme=dark] .colab-df-convert:hover {\n",
              "      background-color: #434B5C;\n",
              "      box-shadow: 0px 1px 3px 1px rgba(0, 0, 0, 0.15);\n",
              "      filter: drop-shadow(0px 1px 2px rgba(0, 0, 0, 0.3));\n",
              "      fill: #FFFFFF;\n",
              "    }\n",
              "  </style>\n",
              "\n",
              "      <script>\n",
              "        const buttonEl =\n",
              "          document.querySelector('#df-bb4e4909-91b8-426c-b6d1-1a3c14355e87 button.colab-df-convert');\n",
              "        buttonEl.style.display =\n",
              "          google.colab.kernel.accessAllowed ? 'block' : 'none';\n",
              "\n",
              "        async function convertToInteractive(key) {\n",
              "          const element = document.querySelector('#df-bb4e4909-91b8-426c-b6d1-1a3c14355e87');\n",
              "          const dataTable =\n",
              "            await google.colab.kernel.invokeFunction('convertToInteractive',\n",
              "                                                     [key], {});\n",
              "          if (!dataTable) return;\n",
              "\n",
              "          const docLinkHtml = 'Like what you see? Visit the ' +\n",
              "            '<a target=\"_blank\" href=https://colab.research.google.com/notebooks/data_table.ipynb>data table notebook</a>'\n",
              "            + ' to learn more about interactive tables.';\n",
              "          element.innerHTML = '';\n",
              "          dataTable['output_type'] = 'display_data';\n",
              "          await google.colab.output.renderOutput(dataTable, element);\n",
              "          const docLink = document.createElement('div');\n",
              "          docLink.innerHTML = docLinkHtml;\n",
              "          element.appendChild(docLink);\n",
              "        }\n",
              "      </script>\n",
              "    </div>\n",
              "  </div>\n",
              "  "
            ]
          },
          "metadata": {},
          "execution_count": 588
        }
      ]
    },
    {
      "cell_type": "code",
      "source": [
        "# see the number of row and number of columns of data\n",
        "data.shape"
      ],
      "metadata": {
        "colab": {
          "base_uri": "https://localhost:8080/"
        },
        "id": "BbuhOHw0a0lm",
        "outputId": "b8990348-21c9-466b-bc1f-1bb107b1ec0f"
      },
      "execution_count": 589,
      "outputs": [
        {
          "output_type": "execute_result",
          "data": {
            "text/plain": [
              "(270, 8)"
            ]
          },
          "metadata": {},
          "execution_count": 589
        }
      ]
    },
    {
      "cell_type": "code",
      "source": [
        "#Understanding each variable\n",
        "data.info()"
      ],
      "metadata": {
        "colab": {
          "base_uri": "https://localhost:8080/"
        },
        "id": "bnJRc-tDbEHe",
        "outputId": "dba1af91-b2d1-4b87-b282-4a6b6a4cbee5"
      },
      "execution_count": 590,
      "outputs": [
        {
          "output_type": "stream",
          "name": "stdout",
          "text": [
            "<class 'pandas.core.frame.DataFrame'>\n",
            "RangeIndex: 270 entries, 0 to 269\n",
            "Data columns (total 8 columns):\n",
            " #   Column               Non-Null Count  Dtype \n",
            "---  ------               --------------  ----- \n",
            " 0   id                   270 non-null    int64 \n",
            " 1   kode_provinsi        270 non-null    int64 \n",
            " 2   nama_provinsi        270 non-null    object\n",
            " 3   kode_kabupaten_kota  270 non-null    int64 \n",
            " 4   nama_kabupaten_kota  270 non-null    object\n",
            " 5   jumlah_banjir        270 non-null    int64 \n",
            " 6   satuan               270 non-null    object\n",
            " 7   tahun                270 non-null    int64 \n",
            "dtypes: int64(5), object(3)\n",
            "memory usage: 17.0+ KB\n"
          ]
        }
      ]
    },
    {
      "cell_type": "code",
      "source": [
        "#see a statistical summary of variables with numeric types\n",
        "data.describe()"
      ],
      "metadata": {
        "colab": {
          "base_uri": "https://localhost:8080/",
          "height": 300
        },
        "id": "WHpiZAfXbQ3J",
        "outputId": "ca344b4f-d093-44a3-899d-dd168230d0d5"
      },
      "execution_count": 591,
      "outputs": [
        {
          "output_type": "execute_result",
          "data": {
            "text/plain": [
              "               id  kode_provinsi  kode_kabupaten_kota  jumlah_banjir  \\\n",
              "count  270.000000          270.0           270.000000     270.000000   \n",
              "mean   135.500000           32.0          3231.333333       7.237037   \n",
              "std     78.086491            0.0            31.259794      10.113635   \n",
              "min      1.000000           32.0          3201.000000       0.000000   \n",
              "25%     68.250000           32.0          3207.000000       1.000000   \n",
              "50%    135.500000           32.0          3214.000000       4.000000   \n",
              "75%    202.750000           32.0          3273.000000       9.750000   \n",
              "max    270.000000           32.0          3279.000000      75.000000   \n",
              "\n",
              "             tahun  \n",
              "count   270.000000  \n",
              "mean   2016.500000  \n",
              "std       2.877615  \n",
              "min    2012.000000  \n",
              "25%    2014.000000  \n",
              "50%    2016.500000  \n",
              "75%    2019.000000  \n",
              "max    2021.000000  "
            ],
            "text/html": [
              "\n",
              "  <div id=\"df-dd2210aa-74f1-401f-bde6-db2d7c87e9b7\">\n",
              "    <div class=\"colab-df-container\">\n",
              "      <div>\n",
              "<style scoped>\n",
              "    .dataframe tbody tr th:only-of-type {\n",
              "        vertical-align: middle;\n",
              "    }\n",
              "\n",
              "    .dataframe tbody tr th {\n",
              "        vertical-align: top;\n",
              "    }\n",
              "\n",
              "    .dataframe thead th {\n",
              "        text-align: right;\n",
              "    }\n",
              "</style>\n",
              "<table border=\"1\" class=\"dataframe\">\n",
              "  <thead>\n",
              "    <tr style=\"text-align: right;\">\n",
              "      <th></th>\n",
              "      <th>id</th>\n",
              "      <th>kode_provinsi</th>\n",
              "      <th>kode_kabupaten_kota</th>\n",
              "      <th>jumlah_banjir</th>\n",
              "      <th>tahun</th>\n",
              "    </tr>\n",
              "  </thead>\n",
              "  <tbody>\n",
              "    <tr>\n",
              "      <th>count</th>\n",
              "      <td>270.000000</td>\n",
              "      <td>270.0</td>\n",
              "      <td>270.000000</td>\n",
              "      <td>270.000000</td>\n",
              "      <td>270.000000</td>\n",
              "    </tr>\n",
              "    <tr>\n",
              "      <th>mean</th>\n",
              "      <td>135.500000</td>\n",
              "      <td>32.0</td>\n",
              "      <td>3231.333333</td>\n",
              "      <td>7.237037</td>\n",
              "      <td>2016.500000</td>\n",
              "    </tr>\n",
              "    <tr>\n",
              "      <th>std</th>\n",
              "      <td>78.086491</td>\n",
              "      <td>0.0</td>\n",
              "      <td>31.259794</td>\n",
              "      <td>10.113635</td>\n",
              "      <td>2.877615</td>\n",
              "    </tr>\n",
              "    <tr>\n",
              "      <th>min</th>\n",
              "      <td>1.000000</td>\n",
              "      <td>32.0</td>\n",
              "      <td>3201.000000</td>\n",
              "      <td>0.000000</td>\n",
              "      <td>2012.000000</td>\n",
              "    </tr>\n",
              "    <tr>\n",
              "      <th>25%</th>\n",
              "      <td>68.250000</td>\n",
              "      <td>32.0</td>\n",
              "      <td>3207.000000</td>\n",
              "      <td>1.000000</td>\n",
              "      <td>2014.000000</td>\n",
              "    </tr>\n",
              "    <tr>\n",
              "      <th>50%</th>\n",
              "      <td>135.500000</td>\n",
              "      <td>32.0</td>\n",
              "      <td>3214.000000</td>\n",
              "      <td>4.000000</td>\n",
              "      <td>2016.500000</td>\n",
              "    </tr>\n",
              "    <tr>\n",
              "      <th>75%</th>\n",
              "      <td>202.750000</td>\n",
              "      <td>32.0</td>\n",
              "      <td>3273.000000</td>\n",
              "      <td>9.750000</td>\n",
              "      <td>2019.000000</td>\n",
              "    </tr>\n",
              "    <tr>\n",
              "      <th>max</th>\n",
              "      <td>270.000000</td>\n",
              "      <td>32.0</td>\n",
              "      <td>3279.000000</td>\n",
              "      <td>75.000000</td>\n",
              "      <td>2021.000000</td>\n",
              "    </tr>\n",
              "  </tbody>\n",
              "</table>\n",
              "</div>\n",
              "      <button class=\"colab-df-convert\" onclick=\"convertToInteractive('df-dd2210aa-74f1-401f-bde6-db2d7c87e9b7')\"\n",
              "              title=\"Convert this dataframe to an interactive table.\"\n",
              "              style=\"display:none;\">\n",
              "        \n",
              "  <svg xmlns=\"http://www.w3.org/2000/svg\" height=\"24px\"viewBox=\"0 0 24 24\"\n",
              "       width=\"24px\">\n",
              "    <path d=\"M0 0h24v24H0V0z\" fill=\"none\"/>\n",
              "    <path d=\"M18.56 5.44l.94 2.06.94-2.06 2.06-.94-2.06-.94-.94-2.06-.94 2.06-2.06.94zm-11 1L8.5 8.5l.94-2.06 2.06-.94-2.06-.94L8.5 2.5l-.94 2.06-2.06.94zm10 10l.94 2.06.94-2.06 2.06-.94-2.06-.94-.94-2.06-.94 2.06-2.06.94z\"/><path d=\"M17.41 7.96l-1.37-1.37c-.4-.4-.92-.59-1.43-.59-.52 0-1.04.2-1.43.59L10.3 9.45l-7.72 7.72c-.78.78-.78 2.05 0 2.83L4 21.41c.39.39.9.59 1.41.59.51 0 1.02-.2 1.41-.59l7.78-7.78 2.81-2.81c.8-.78.8-2.07 0-2.86zM5.41 20L4 18.59l7.72-7.72 1.47 1.35L5.41 20z\"/>\n",
              "  </svg>\n",
              "      </button>\n",
              "      \n",
              "  <style>\n",
              "    .colab-df-container {\n",
              "      display:flex;\n",
              "      flex-wrap:wrap;\n",
              "      gap: 12px;\n",
              "    }\n",
              "\n",
              "    .colab-df-convert {\n",
              "      background-color: #E8F0FE;\n",
              "      border: none;\n",
              "      border-radius: 50%;\n",
              "      cursor: pointer;\n",
              "      display: none;\n",
              "      fill: #1967D2;\n",
              "      height: 32px;\n",
              "      padding: 0 0 0 0;\n",
              "      width: 32px;\n",
              "    }\n",
              "\n",
              "    .colab-df-convert:hover {\n",
              "      background-color: #E2EBFA;\n",
              "      box-shadow: 0px 1px 2px rgba(60, 64, 67, 0.3), 0px 1px 3px 1px rgba(60, 64, 67, 0.15);\n",
              "      fill: #174EA6;\n",
              "    }\n",
              "\n",
              "    [theme=dark] .colab-df-convert {\n",
              "      background-color: #3B4455;\n",
              "      fill: #D2E3FC;\n",
              "    }\n",
              "\n",
              "    [theme=dark] .colab-df-convert:hover {\n",
              "      background-color: #434B5C;\n",
              "      box-shadow: 0px 1px 3px 1px rgba(0, 0, 0, 0.15);\n",
              "      filter: drop-shadow(0px 1px 2px rgba(0, 0, 0, 0.3));\n",
              "      fill: #FFFFFF;\n",
              "    }\n",
              "  </style>\n",
              "\n",
              "      <script>\n",
              "        const buttonEl =\n",
              "          document.querySelector('#df-dd2210aa-74f1-401f-bde6-db2d7c87e9b7 button.colab-df-convert');\n",
              "        buttonEl.style.display =\n",
              "          google.colab.kernel.accessAllowed ? 'block' : 'none';\n",
              "\n",
              "        async function convertToInteractive(key) {\n",
              "          const element = document.querySelector('#df-dd2210aa-74f1-401f-bde6-db2d7c87e9b7');\n",
              "          const dataTable =\n",
              "            await google.colab.kernel.invokeFunction('convertToInteractive',\n",
              "                                                     [key], {});\n",
              "          if (!dataTable) return;\n",
              "\n",
              "          const docLinkHtml = 'Like what you see? Visit the ' +\n",
              "            '<a target=\"_blank\" href=https://colab.research.google.com/notebooks/data_table.ipynb>data table notebook</a>'\n",
              "            + ' to learn more about interactive tables.';\n",
              "          element.innerHTML = '';\n",
              "          dataTable['output_type'] = 'display_data';\n",
              "          await google.colab.output.renderOutput(dataTable, element);\n",
              "          const docLink = document.createElement('div');\n",
              "          docLink.innerHTML = docLinkHtml;\n",
              "          element.appendChild(docLink);\n",
              "        }\n",
              "      </script>\n",
              "    </div>\n",
              "  </div>\n",
              "  "
            ]
          },
          "metadata": {},
          "execution_count": 591
        }
      ]
    },
    {
      "cell_type": "markdown",
      "source": [
        "Data Cleaning and Preprocessing"
      ],
      "metadata": {
        "id": "9a0rWgMpsSex"
      }
    },
    {
      "cell_type": "markdown",
      "source": [
        "Check Dulpicate Data"
      ],
      "metadata": {
        "id": "Z3NmWV8Or1OG"
      }
    },
    {
      "cell_type": "code",
      "source": [
        "#Drop duplicate value\n",
        "data=data.drop_duplicates()"
      ],
      "metadata": {
        "id": "fH0NJwmCbYTk"
      },
      "execution_count": 592,
      "outputs": []
    },
    {
      "cell_type": "code",
      "source": [
        "#see changes in the number of rows and columns after the duplicate drop\n",
        "data.shape"
      ],
      "metadata": {
        "colab": {
          "base_uri": "https://localhost:8080/"
        },
        "id": "HZ3jSDtIbktk",
        "outputId": "97618209-c87a-4aff-f11f-fbb403c70bc4"
      },
      "execution_count": 593,
      "outputs": [
        {
          "output_type": "execute_result",
          "data": {
            "text/plain": [
              "(270, 8)"
            ]
          },
          "metadata": {},
          "execution_count": 593
        }
      ]
    },
    {
      "cell_type": "markdown",
      "source": [
        "Check Data Types"
      ],
      "metadata": {
        "id": "OXH368kcbpy5"
      }
    },
    {
      "cell_type": "code",
      "source": [
        "#Check data type\n",
        "data.dtypes"
      ],
      "metadata": {
        "colab": {
          "base_uri": "https://localhost:8080/"
        },
        "id": "yNxfQAwEbxg4",
        "outputId": "0b5b6d59-baff-4264-e36b-b770c9e82737"
      },
      "execution_count": 594,
      "outputs": [
        {
          "output_type": "execute_result",
          "data": {
            "text/plain": [
              "id                      int64\n",
              "kode_provinsi           int64\n",
              "nama_provinsi          object\n",
              "kode_kabupaten_kota     int64\n",
              "nama_kabupaten_kota    object\n",
              "jumlah_banjir           int64\n",
              "satuan                 object\n",
              "tahun                   int64\n",
              "dtype: object"
            ]
          },
          "metadata": {},
          "execution_count": 594
        }
      ]
    },
    {
      "cell_type": "code",
      "source": [
        "#Check the missing value\n",
        "data.isnull().sum()"
      ],
      "metadata": {
        "id": "h6O6GjzYMyJN",
        "outputId": "68213fa5-e399-459f-e37d-7152b273a266",
        "colab": {
          "base_uri": "https://localhost:8080/"
        }
      },
      "execution_count": 595,
      "outputs": [
        {
          "output_type": "execute_result",
          "data": {
            "text/plain": [
              "id                     0\n",
              "kode_provinsi          0\n",
              "nama_provinsi          0\n",
              "kode_kabupaten_kota    0\n",
              "nama_kabupaten_kota    0\n",
              "jumlah_banjir          0\n",
              "satuan                 0\n",
              "tahun                  0\n",
              "dtype: int64"
            ]
          },
          "metadata": {},
          "execution_count": 595
        }
      ]
    },
    {
      "cell_type": "code",
      "source": [
        "from sklearn.preprocessing import LabelEncoder\n",
        "\n",
        "Id_col = ['id']\n",
        "num_cols = ['jumlah_banjir','satuan']\n",
        "\n",
        "bin_cols = ['nama_kabupaten_kota','nama_provinsi','satuan']\n",
        "\n",
        "le = LabelEncoder()\n",
        "for i in bin_cols :\n",
        "  data[i] = le.fit_transform(data[i])\n",
        "\n",
        "#data=pd.get_dummies(data=data,columns = multi_cols,drop_first=True)"
      ],
      "metadata": {
        "id": "ae1aOf4SWR-R"
      },
      "execution_count": 596,
      "outputs": []
    },
    {
      "cell_type": "code",
      "source": [
        "data"
      ],
      "metadata": {
        "id": "gt09ZEMXXhFe",
        "outputId": "d7243a60-fa97-4b87-90a6-6725d9329ebf",
        "colab": {
          "base_uri": "https://localhost:8080/",
          "height": 424
        }
      },
      "execution_count": 597,
      "outputs": [
        {
          "output_type": "execute_result",
          "data": {
            "text/plain": [
              "      id  kode_provinsi  nama_provinsi  kode_kabupaten_kota  \\\n",
              "0      1             32              0                 3201   \n",
              "1      2             32              0                 3202   \n",
              "2      3             32              0                 3203   \n",
              "3      4             32              0                 3204   \n",
              "4      5             32              0                 3205   \n",
              "..   ...            ...            ...                  ...   \n",
              "265  266             32              0                 3275   \n",
              "266  267             32              0                 3276   \n",
              "267  268             32              0                 3277   \n",
              "268  269             32              0                 3278   \n",
              "269  270             32              0                 3279   \n",
              "\n",
              "     nama_kabupaten_kota  jumlah_banjir  satuan  tahun  \n",
              "0                      3              0       0   2012  \n",
              "1                     15             20       0   2012  \n",
              "2                      5              1       0   2012  \n",
              "3                      0             17       0   2012  \n",
              "4                      7              7       0   2012  \n",
              "..                   ...            ...     ...    ...  \n",
              "265                   20             14       0   2021  \n",
              "266                   24              3       0   2021  \n",
              "267                   22              6       0   2021  \n",
              "268                   26              2       0   2021  \n",
              "269                   19              1       0   2021  \n",
              "\n",
              "[270 rows x 8 columns]"
            ],
            "text/html": [
              "\n",
              "  <div id=\"df-eceea0a1-5f74-4f30-b2d3-bf0d3d13393f\">\n",
              "    <div class=\"colab-df-container\">\n",
              "      <div>\n",
              "<style scoped>\n",
              "    .dataframe tbody tr th:only-of-type {\n",
              "        vertical-align: middle;\n",
              "    }\n",
              "\n",
              "    .dataframe tbody tr th {\n",
              "        vertical-align: top;\n",
              "    }\n",
              "\n",
              "    .dataframe thead th {\n",
              "        text-align: right;\n",
              "    }\n",
              "</style>\n",
              "<table border=\"1\" class=\"dataframe\">\n",
              "  <thead>\n",
              "    <tr style=\"text-align: right;\">\n",
              "      <th></th>\n",
              "      <th>id</th>\n",
              "      <th>kode_provinsi</th>\n",
              "      <th>nama_provinsi</th>\n",
              "      <th>kode_kabupaten_kota</th>\n",
              "      <th>nama_kabupaten_kota</th>\n",
              "      <th>jumlah_banjir</th>\n",
              "      <th>satuan</th>\n",
              "      <th>tahun</th>\n",
              "    </tr>\n",
              "  </thead>\n",
              "  <tbody>\n",
              "    <tr>\n",
              "      <th>0</th>\n",
              "      <td>1</td>\n",
              "      <td>32</td>\n",
              "      <td>0</td>\n",
              "      <td>3201</td>\n",
              "      <td>3</td>\n",
              "      <td>0</td>\n",
              "      <td>0</td>\n",
              "      <td>2012</td>\n",
              "    </tr>\n",
              "    <tr>\n",
              "      <th>1</th>\n",
              "      <td>2</td>\n",
              "      <td>32</td>\n",
              "      <td>0</td>\n",
              "      <td>3202</td>\n",
              "      <td>15</td>\n",
              "      <td>20</td>\n",
              "      <td>0</td>\n",
              "      <td>2012</td>\n",
              "    </tr>\n",
              "    <tr>\n",
              "      <th>2</th>\n",
              "      <td>3</td>\n",
              "      <td>32</td>\n",
              "      <td>0</td>\n",
              "      <td>3203</td>\n",
              "      <td>5</td>\n",
              "      <td>1</td>\n",
              "      <td>0</td>\n",
              "      <td>2012</td>\n",
              "    </tr>\n",
              "    <tr>\n",
              "      <th>3</th>\n",
              "      <td>4</td>\n",
              "      <td>32</td>\n",
              "      <td>0</td>\n",
              "      <td>3204</td>\n",
              "      <td>0</td>\n",
              "      <td>17</td>\n",
              "      <td>0</td>\n",
              "      <td>2012</td>\n",
              "    </tr>\n",
              "    <tr>\n",
              "      <th>4</th>\n",
              "      <td>5</td>\n",
              "      <td>32</td>\n",
              "      <td>0</td>\n",
              "      <td>3205</td>\n",
              "      <td>7</td>\n",
              "      <td>7</td>\n",
              "      <td>0</td>\n",
              "      <td>2012</td>\n",
              "    </tr>\n",
              "    <tr>\n",
              "      <th>...</th>\n",
              "      <td>...</td>\n",
              "      <td>...</td>\n",
              "      <td>...</td>\n",
              "      <td>...</td>\n",
              "      <td>...</td>\n",
              "      <td>...</td>\n",
              "      <td>...</td>\n",
              "      <td>...</td>\n",
              "    </tr>\n",
              "    <tr>\n",
              "      <th>265</th>\n",
              "      <td>266</td>\n",
              "      <td>32</td>\n",
              "      <td>0</td>\n",
              "      <td>3275</td>\n",
              "      <td>20</td>\n",
              "      <td>14</td>\n",
              "      <td>0</td>\n",
              "      <td>2021</td>\n",
              "    </tr>\n",
              "    <tr>\n",
              "      <th>266</th>\n",
              "      <td>267</td>\n",
              "      <td>32</td>\n",
              "      <td>0</td>\n",
              "      <td>3276</td>\n",
              "      <td>24</td>\n",
              "      <td>3</td>\n",
              "      <td>0</td>\n",
              "      <td>2021</td>\n",
              "    </tr>\n",
              "    <tr>\n",
              "      <th>267</th>\n",
              "      <td>268</td>\n",
              "      <td>32</td>\n",
              "      <td>0</td>\n",
              "      <td>3277</td>\n",
              "      <td>22</td>\n",
              "      <td>6</td>\n",
              "      <td>0</td>\n",
              "      <td>2021</td>\n",
              "    </tr>\n",
              "    <tr>\n",
              "      <th>268</th>\n",
              "      <td>269</td>\n",
              "      <td>32</td>\n",
              "      <td>0</td>\n",
              "      <td>3278</td>\n",
              "      <td>26</td>\n",
              "      <td>2</td>\n",
              "      <td>0</td>\n",
              "      <td>2021</td>\n",
              "    </tr>\n",
              "    <tr>\n",
              "      <th>269</th>\n",
              "      <td>270</td>\n",
              "      <td>32</td>\n",
              "      <td>0</td>\n",
              "      <td>3279</td>\n",
              "      <td>19</td>\n",
              "      <td>1</td>\n",
              "      <td>0</td>\n",
              "      <td>2021</td>\n",
              "    </tr>\n",
              "  </tbody>\n",
              "</table>\n",
              "<p>270 rows × 8 columns</p>\n",
              "</div>\n",
              "      <button class=\"colab-df-convert\" onclick=\"convertToInteractive('df-eceea0a1-5f74-4f30-b2d3-bf0d3d13393f')\"\n",
              "              title=\"Convert this dataframe to an interactive table.\"\n",
              "              style=\"display:none;\">\n",
              "        \n",
              "  <svg xmlns=\"http://www.w3.org/2000/svg\" height=\"24px\"viewBox=\"0 0 24 24\"\n",
              "       width=\"24px\">\n",
              "    <path d=\"M0 0h24v24H0V0z\" fill=\"none\"/>\n",
              "    <path d=\"M18.56 5.44l.94 2.06.94-2.06 2.06-.94-2.06-.94-.94-2.06-.94 2.06-2.06.94zm-11 1L8.5 8.5l.94-2.06 2.06-.94-2.06-.94L8.5 2.5l-.94 2.06-2.06.94zm10 10l.94 2.06.94-2.06 2.06-.94-2.06-.94-.94-2.06-.94 2.06-2.06.94z\"/><path d=\"M17.41 7.96l-1.37-1.37c-.4-.4-.92-.59-1.43-.59-.52 0-1.04.2-1.43.59L10.3 9.45l-7.72 7.72c-.78.78-.78 2.05 0 2.83L4 21.41c.39.39.9.59 1.41.59.51 0 1.02-.2 1.41-.59l7.78-7.78 2.81-2.81c.8-.78.8-2.07 0-2.86zM5.41 20L4 18.59l7.72-7.72 1.47 1.35L5.41 20z\"/>\n",
              "  </svg>\n",
              "      </button>\n",
              "      \n",
              "  <style>\n",
              "    .colab-df-container {\n",
              "      display:flex;\n",
              "      flex-wrap:wrap;\n",
              "      gap: 12px;\n",
              "    }\n",
              "\n",
              "    .colab-df-convert {\n",
              "      background-color: #E8F0FE;\n",
              "      border: none;\n",
              "      border-radius: 50%;\n",
              "      cursor: pointer;\n",
              "      display: none;\n",
              "      fill: #1967D2;\n",
              "      height: 32px;\n",
              "      padding: 0 0 0 0;\n",
              "      width: 32px;\n",
              "    }\n",
              "\n",
              "    .colab-df-convert:hover {\n",
              "      background-color: #E2EBFA;\n",
              "      box-shadow: 0px 1px 2px rgba(60, 64, 67, 0.3), 0px 1px 3px 1px rgba(60, 64, 67, 0.15);\n",
              "      fill: #174EA6;\n",
              "    }\n",
              "\n",
              "    [theme=dark] .colab-df-convert {\n",
              "      background-color: #3B4455;\n",
              "      fill: #D2E3FC;\n",
              "    }\n",
              "\n",
              "    [theme=dark] .colab-df-convert:hover {\n",
              "      background-color: #434B5C;\n",
              "      box-shadow: 0px 1px 3px 1px rgba(0, 0, 0, 0.15);\n",
              "      filter: drop-shadow(0px 1px 2px rgba(0, 0, 0, 0.3));\n",
              "      fill: #FFFFFF;\n",
              "    }\n",
              "  </style>\n",
              "\n",
              "      <script>\n",
              "        const buttonEl =\n",
              "          document.querySelector('#df-eceea0a1-5f74-4f30-b2d3-bf0d3d13393f button.colab-df-convert');\n",
              "        buttonEl.style.display =\n",
              "          google.colab.kernel.accessAllowed ? 'block' : 'none';\n",
              "\n",
              "        async function convertToInteractive(key) {\n",
              "          const element = document.querySelector('#df-eceea0a1-5f74-4f30-b2d3-bf0d3d13393f');\n",
              "          const dataTable =\n",
              "            await google.colab.kernel.invokeFunction('convertToInteractive',\n",
              "                                                     [key], {});\n",
              "          if (!dataTable) return;\n",
              "\n",
              "          const docLinkHtml = 'Like what you see? Visit the ' +\n",
              "            '<a target=\"_blank\" href=https://colab.research.google.com/notebooks/data_table.ipynb>data table notebook</a>'\n",
              "            + ' to learn more about interactive tables.';\n",
              "          element.innerHTML = '';\n",
              "          dataTable['output_type'] = 'display_data';\n",
              "          await google.colab.output.renderOutput(dataTable, element);\n",
              "          const docLink = document.createElement('div');\n",
              "          docLink.innerHTML = docLinkHtml;\n",
              "          element.appendChild(docLink);\n",
              "        }\n",
              "      </script>\n",
              "    </div>\n",
              "  </div>\n",
              "  "
            ]
          },
          "metadata": {},
          "execution_count": 597
        }
      ]
    },
    {
      "cell_type": "code",
      "source": [],
      "metadata": {
        "id": "b64nDqibPvI-"
      },
      "execution_count": 597,
      "outputs": []
    },
    {
      "cell_type": "code",
      "source": [
        "from sklearn.model_selection import train_test_split\n",
        "\n",
        "train,test = train_test_split(data,test_size=0.20,random_state=111)\n",
        "\n",
        "train_X = train.drop(labels='tahun',axis=1)\n",
        "train_Y = train['tahun']\n",
        "test_X  = test.drop(labels='tahun',axis=1)\n",
        "test_Y  = test['tahun']"
      ],
      "metadata": {
        "id": "0s-6bsIFVNjL"
      },
      "execution_count": 598,
      "outputs": []
    },
    {
      "cell_type": "code",
      "source": [
        "from imblearn.over_sampling import SMOTE\n",
        "\n",
        "#handle imbalance class using oversampling minority class with smote methode\n",
        "os = SMOTE(sampling_strategy='minority', random_state = 123,k_neighbors=5)\n",
        "train_smote_X, train_smote_Y = os.fit_resample(train_X, train_Y)\n",
        "train_smote_X = pd.DataFrame(data = train_smote_X, columns=train_X.columns)\n",
        "train_smote_Y = pd.DataFrame(data = train_smote_Y)"
      ],
      "metadata": {
        "id": "wPhAegyfV4lw"
      },
      "execution_count": 599,
      "outputs": []
    },
    {
      "cell_type": "code",
      "source": [
        "train_Y.value_counts()"
      ],
      "metadata": {
        "id": "kz4B3CCTWFE6",
        "outputId": "25ec02a1-eb2e-4f9d-85ef-bf802f6a79d7",
        "colab": {
          "base_uri": "https://localhost:8080/"
        }
      },
      "execution_count": 600,
      "outputs": [
        {
          "output_type": "execute_result",
          "data": {
            "text/plain": [
              "2015    24\n",
              "2020    24\n",
              "2021    23\n",
              "2019    23\n",
              "2016    22\n",
              "2014    21\n",
              "2018    20\n",
              "2013    20\n",
              "2017    20\n",
              "2012    19\n",
              "Name: tahun, dtype: int64"
            ]
          },
          "metadata": {},
          "execution_count": 600
        }
      ]
    },
    {
      "cell_type": "code",
      "source": [
        "train_smote_Y.value_counts()"
      ],
      "metadata": {
        "id": "duTxzoX0X5MV",
        "outputId": "afcd2dfb-04f7-4287-de95-59e528ecc44b",
        "colab": {
          "base_uri": "https://localhost:8080/"
        }
      },
      "execution_count": 601,
      "outputs": [
        {
          "output_type": "execute_result",
          "data": {
            "text/plain": [
              "tahun\n",
              "2012     24\n",
              "2015     24\n",
              "2020     24\n",
              "2019     23\n",
              "2021     23\n",
              "2016     22\n",
              "2014     21\n",
              "2013     20\n",
              "2017     20\n",
              "2018     20\n",
              "dtype: int64"
            ]
          },
          "metadata": {},
          "execution_count": 601
        }
      ]
    },
    {
      "cell_type": "markdown",
      "source": [
        "**SVM**"
      ],
      "metadata": {
        "id": "VbYSvWzFcTJF"
      }
    },
    {
      "cell_type": "code",
      "source": [
        "from sklearn.metrics import confusion_matrix, accuracy_score, classification_report"
      ],
      "metadata": {
        "id": "dQ1RlkWod_a6"
      },
      "execution_count": 602,
      "outputs": []
    },
    {
      "cell_type": "code",
      "source": [
        "from sklearn.svm import SVC\n",
        "\n",
        "model_SVM = SVC(random_state=0)\n",
        "model_SVM.fit(train_smote_X, train_smote_Y)"
      ],
      "metadata": {
        "id": "KQjQ_LgeYPpJ",
        "colab": {
          "base_uri": "https://localhost:8080/"
        },
        "outputId": "b02ccf0d-a672-4ade-ee42-a2e04963639c"
      },
      "execution_count": 603,
      "outputs": [
        {
          "output_type": "stream",
          "name": "stderr",
          "text": [
            "/usr/local/lib/python3.8/dist-packages/sklearn/utils/validation.py:993: DataConversionWarning: A column-vector y was passed when a 1d array was expected. Please change the shape of y to (n_samples, ), for example using ravel().\n",
            "  y = column_or_1d(y, warn=True)\n"
          ]
        },
        {
          "output_type": "execute_result",
          "data": {
            "text/plain": [
              "SVC(random_state=0)"
            ]
          },
          "metadata": {},
          "execution_count": 603
        }
      ]
    },
    {
      "cell_type": "code",
      "source": [
        "y_pred_svm = model_SVM.predict(test_X)"
      ],
      "metadata": {
        "id": "HL-i2CkccXMI"
      },
      "execution_count": 604,
      "outputs": []
    },
    {
      "cell_type": "code",
      "source": [
        "print(classification_report(test_Y, y_pred_svm))\n",
        "\n",
        "score = accuracy_score(test_Y, y_pred_svm)\n",
        "print(\"Accuracy: %.2f%%\" % (score*100))"
      ],
      "metadata": {
        "colab": {
          "base_uri": "https://localhost:8080/"
        },
        "id": "cY0ME7wxcZD8",
        "outputId": "5c0cc9fc-9a76-4d92-e512-cad95dc072b8"
      },
      "execution_count": 605,
      "outputs": [
        {
          "output_type": "stream",
          "name": "stdout",
          "text": [
            "              precision    recall  f1-score   support\n",
            "\n",
            "        2012       0.50      1.00      0.67         8\n",
            "        2013       0.00      0.00      0.00         7\n",
            "        2014       0.00      0.00      0.00         6\n",
            "        2015       0.15      1.00      0.26         3\n",
            "        2016       0.00      0.00      0.00         5\n",
            "        2017       0.00      0.00      0.00         7\n",
            "        2018       0.00      0.00      0.00         7\n",
            "        2019       0.00      0.00      0.00         4\n",
            "        2020       0.17      1.00      0.29         3\n",
            "        2021       0.00      0.00      0.00         4\n",
            "\n",
            "    accuracy                           0.26        54\n",
            "   macro avg       0.08      0.30      0.12        54\n",
            "weighted avg       0.09      0.26      0.13        54\n",
            "\n",
            "Accuracy: 25.93%\n"
          ]
        },
        {
          "output_type": "stream",
          "name": "stderr",
          "text": [
            "/usr/local/lib/python3.8/dist-packages/sklearn/metrics/_classification.py:1318: UndefinedMetricWarning: Precision and F-score are ill-defined and being set to 0.0 in labels with no predicted samples. Use `zero_division` parameter to control this behavior.\n",
            "  _warn_prf(average, modifier, msg_start, len(result))\n",
            "/usr/local/lib/python3.8/dist-packages/sklearn/metrics/_classification.py:1318: UndefinedMetricWarning: Precision and F-score are ill-defined and being set to 0.0 in labels with no predicted samples. Use `zero_division` parameter to control this behavior.\n",
            "  _warn_prf(average, modifier, msg_start, len(result))\n",
            "/usr/local/lib/python3.8/dist-packages/sklearn/metrics/_classification.py:1318: UndefinedMetricWarning: Precision and F-score are ill-defined and being set to 0.0 in labels with no predicted samples. Use `zero_division` parameter to control this behavior.\n",
            "  _warn_prf(average, modifier, msg_start, len(result))\n"
          ]
        }
      ]
    },
    {
      "cell_type": "markdown",
      "source": [
        "**Random Forest**"
      ],
      "metadata": {
        "id": "jKDxuGRbev2X"
      }
    },
    {
      "cell_type": "code",
      "source": [
        "from sklearn.ensemble import RandomForestClassifier\n",
        "from sklearn.metrics import confusion_matrix, accuracy_score, classification_report\n",
        "\n",
        "model = RandomForestClassifier(n_estimators=100, random_state=0)\n",
        "model.fit(train_smote_X, train_smote_Y)"
      ],
      "metadata": {
        "colab": {
          "base_uri": "https://localhost:8080/"
        },
        "id": "4pi8efbxevrA",
        "outputId": "5334f09f-1fa9-4b79-89e5-2c79c29146f5"
      },
      "execution_count": 606,
      "outputs": [
        {
          "output_type": "stream",
          "name": "stderr",
          "text": [
            "<ipython-input-606-3cc9b4b78856>:5: DataConversionWarning: A column-vector y was passed when a 1d array was expected. Please change the shape of y to (n_samples,), for example using ravel().\n",
            "  model.fit(train_smote_X, train_smote_Y)\n"
          ]
        },
        {
          "output_type": "execute_result",
          "data": {
            "text/plain": [
              "RandomForestClassifier(random_state=0)"
            ]
          },
          "metadata": {},
          "execution_count": 606
        }
      ]
    },
    {
      "cell_type": "code",
      "source": [
        "y_pred = model.predict(test_X)"
      ],
      "metadata": {
        "id": "W96WbHEDe0s5"
      },
      "execution_count": 607,
      "outputs": []
    },
    {
      "cell_type": "code",
      "source": [
        "print(classification_report(test_Y, y_pred))\n",
        "\n",
        "score = accuracy_score(test_Y, y_pred)\n",
        "print(\"Accuracy: %.2f%%\" % (score*100))"
      ],
      "metadata": {
        "colab": {
          "base_uri": "https://localhost:8080/"
        },
        "id": "PpWiY4q6e4P3",
        "outputId": "62edce95-1010-45f8-c6c0-cd4fb7461ee4"
      },
      "execution_count": 608,
      "outputs": [
        {
          "output_type": "stream",
          "name": "stdout",
          "text": [
            "              precision    recall  f1-score   support\n",
            "\n",
            "        2012       1.00      0.88      0.93         8\n",
            "        2013       1.00      0.71      0.83         7\n",
            "        2014       0.50      0.50      0.50         6\n",
            "        2015       0.43      1.00      0.60         3\n",
            "        2016       0.67      0.40      0.50         5\n",
            "        2017       0.50      0.86      0.63         7\n",
            "        2018       0.67      0.29      0.40         7\n",
            "        2019       0.67      0.50      0.57         4\n",
            "        2020       0.75      1.00      0.86         3\n",
            "        2021       1.00      1.00      1.00         4\n",
            "\n",
            "    accuracy                           0.69        54\n",
            "   macro avg       0.72      0.71      0.68        54\n",
            "weighted avg       0.74      0.69      0.68        54\n",
            "\n",
            "Accuracy: 68.52%\n"
          ]
        }
      ]
    },
    {
      "cell_type": "code",
      "source": [
        "from sklearn.model_selection import cross_val_score, StratifiedKFold\n",
        "\n",
        "cv = StratifiedKFold(n_splits=10)\n",
        "clf = RandomForestClassifier()\n",
        "score_rf_val = cross_val_score(clf,train_smote_X, train_smote_Y,cv=cv)\n",
        "score_rf_val"
      ],
      "metadata": {
        "colab": {
          "base_uri": "https://localhost:8080/"
        },
        "id": "G4Sw8_AGe6-q",
        "outputId": "e32918dd-2b32-4263-a1b8-a5ff648ae36a"
      },
      "execution_count": 609,
      "outputs": [
        {
          "output_type": "stream",
          "name": "stderr",
          "text": [
            "/usr/local/lib/python3.8/dist-packages/sklearn/model_selection/_validation.py:680: DataConversionWarning: A column-vector y was passed when a 1d array was expected. Please change the shape of y to (n_samples,), for example using ravel().\n",
            "  estimator.fit(X_train, y_train, **fit_params)\n",
            "/usr/local/lib/python3.8/dist-packages/sklearn/model_selection/_validation.py:680: DataConversionWarning: A column-vector y was passed when a 1d array was expected. Please change the shape of y to (n_samples,), for example using ravel().\n",
            "  estimator.fit(X_train, y_train, **fit_params)\n",
            "/usr/local/lib/python3.8/dist-packages/sklearn/model_selection/_validation.py:680: DataConversionWarning: A column-vector y was passed when a 1d array was expected. Please change the shape of y to (n_samples,), for example using ravel().\n",
            "  estimator.fit(X_train, y_train, **fit_params)\n",
            "/usr/local/lib/python3.8/dist-packages/sklearn/model_selection/_validation.py:680: DataConversionWarning: A column-vector y was passed when a 1d array was expected. Please change the shape of y to (n_samples,), for example using ravel().\n",
            "  estimator.fit(X_train, y_train, **fit_params)\n",
            "/usr/local/lib/python3.8/dist-packages/sklearn/model_selection/_validation.py:680: DataConversionWarning: A column-vector y was passed when a 1d array was expected. Please change the shape of y to (n_samples,), for example using ravel().\n",
            "  estimator.fit(X_train, y_train, **fit_params)\n",
            "/usr/local/lib/python3.8/dist-packages/sklearn/model_selection/_validation.py:680: DataConversionWarning: A column-vector y was passed when a 1d array was expected. Please change the shape of y to (n_samples,), for example using ravel().\n",
            "  estimator.fit(X_train, y_train, **fit_params)\n",
            "/usr/local/lib/python3.8/dist-packages/sklearn/model_selection/_validation.py:680: DataConversionWarning: A column-vector y was passed when a 1d array was expected. Please change the shape of y to (n_samples,), for example using ravel().\n",
            "  estimator.fit(X_train, y_train, **fit_params)\n",
            "/usr/local/lib/python3.8/dist-packages/sklearn/model_selection/_validation.py:680: DataConversionWarning: A column-vector y was passed when a 1d array was expected. Please change the shape of y to (n_samples,), for example using ravel().\n",
            "  estimator.fit(X_train, y_train, **fit_params)\n",
            "/usr/local/lib/python3.8/dist-packages/sklearn/model_selection/_validation.py:680: DataConversionWarning: A column-vector y was passed when a 1d array was expected. Please change the shape of y to (n_samples,), for example using ravel().\n",
            "  estimator.fit(X_train, y_train, **fit_params)\n",
            "/usr/local/lib/python3.8/dist-packages/sklearn/model_selection/_validation.py:680: DataConversionWarning: A column-vector y was passed when a 1d array was expected. Please change the shape of y to (n_samples,), for example using ravel().\n",
            "  estimator.fit(X_train, y_train, **fit_params)\n"
          ]
        },
        {
          "output_type": "execute_result",
          "data": {
            "text/plain": [
              "array([0.73913043, 0.68181818, 0.59090909, 0.63636364, 0.72727273,\n",
              "       0.86363636, 0.68181818, 0.81818182, 0.90909091, 0.86363636])"
            ]
          },
          "metadata": {},
          "execution_count": 609
        }
      ]
    },
    {
      "cell_type": "code",
      "source": [
        "score_rf_val.mean()\n",
        "print(\"Accuracy Validation Score: %.2f%%\" % (score_rf_val.mean()*100))"
      ],
      "metadata": {
        "colab": {
          "base_uri": "https://localhost:8080/"
        },
        "id": "D-ScXsU2e8s7",
        "outputId": "99f45100-4324-416d-e6de-044216615200"
      },
      "execution_count": 610,
      "outputs": [
        {
          "output_type": "stream",
          "name": "stdout",
          "text": [
            "Accuracy Validation Score: 75.12%\n"
          ]
        }
      ]
    },
    {
      "cell_type": "code",
      "source": [
        "confusion_matrix(test_Y, y_pred)"
      ],
      "metadata": {
        "colab": {
          "base_uri": "https://localhost:8080/"
        },
        "id": "UxA0GHyze-d9",
        "outputId": "3ec2ac78-4eee-4b6d-db29-7c2e896b3417"
      },
      "execution_count": 611,
      "outputs": [
        {
          "output_type": "execute_result",
          "data": {
            "text/plain": [
              "array([[7, 0, 1, 0, 0, 0, 0, 0, 0, 0],\n",
              "       [0, 5, 2, 0, 0, 0, 0, 0, 0, 0],\n",
              "       [0, 0, 3, 3, 0, 0, 0, 0, 0, 0],\n",
              "       [0, 0, 0, 3, 0, 0, 0, 0, 0, 0],\n",
              "       [0, 0, 0, 1, 2, 2, 0, 0, 0, 0],\n",
              "       [0, 0, 0, 0, 1, 6, 0, 0, 0, 0],\n",
              "       [0, 0, 0, 0, 0, 4, 2, 1, 0, 0],\n",
              "       [0, 0, 0, 0, 0, 0, 1, 2, 1, 0],\n",
              "       [0, 0, 0, 0, 0, 0, 0, 0, 3, 0],\n",
              "       [0, 0, 0, 0, 0, 0, 0, 0, 0, 4]])"
            ]
          },
          "metadata": {},
          "execution_count": 611
        }
      ]
    },
    {
      "cell_type": "code",
      "source": [
        "import seaborn as sn\n",
        "cm = confusion_matrix(test_Y, y_pred)\n",
        "sn.heatmap(cm, annot=True)"
      ],
      "metadata": {
        "colab": {
          "base_uri": "https://localhost:8080/",
          "height": 288
        },
        "id": "t_wQIotVfAMU",
        "outputId": "48144e04-bf3d-4c20-e10c-7960a7b8e6bb"
      },
      "execution_count": 612,
      "outputs": [
        {
          "output_type": "execute_result",
          "data": {
            "text/plain": [
              "<matplotlib.axes._subplots.AxesSubplot at 0x7f73640c6790>"
            ]
          },
          "metadata": {},
          "execution_count": 612
        },
        {
          "output_type": "display_data",
          "data": {
            "text/plain": [
              "<Figure size 432x288 with 2 Axes>"
            ],
            "image/png": "[encoded data removed]"
          },
          "metadata": {
            "needs_background": "light"
          }
        }
      ]
    }
  ]
}