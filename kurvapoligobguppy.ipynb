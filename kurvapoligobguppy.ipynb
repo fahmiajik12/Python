{
  "nbformat": 4,
  "nbformat_minor": 0,
  "metadata": {
    "colab": {
      "provenance": []
    },
    "kernelspec": {
      "name": "python3",
      "display_name": "Python 3"
    },
    "language_info": {
      "name": "python"
    }
  },
  "cells": [
    {
      "cell_type": "code",
      "execution_count": 1,
      "metadata": {
        "id": "iY0Ne8OgyO0p"
      },
      "outputs": [],
      "source": [
        "#Contoh penggunaan approxPolyDB()\n",
        "import cv2"
      ]
    },
    {
      "cell_type": "markdown",
      "source": [
        "**Import cv 2 berfungsi untuk memanggil modul opencv untuk proses input,simpan dan menampilkan citra/ image.**"
      ],
      "metadata": {
        "id": "vIHAvDDXht9H"
      }
    },
    {
      "cell_type": "code",
      "source": [
        "#BAca citra biner \n",
        "citra = cv2.imread('guppy.jpeg', 0)\n",
        "citraBerwarna = cv2.merge((citra, citra,citra))"
      ],
      "metadata": {
        "id": "GStiJgrMyfX-"
      },
      "execution_count": 4,
      "outputs": []
    },
    {
      "cell_type": "markdown",
      "source": [
        "**Cv2.imread berfungsi untuk membaca file gambar yang sudah di upload dengan cv2 dan cv2 merge berfungsi mengambil gambar saluran tunggal dan menggabungkannya untuk membuat gambar multi saluran.**"
      ],
      "metadata": {
        "id": "c4H3Mql4iN98"
      }
    },
    {
      "cell_type": "code",
      "source": [
        "#Peroleh Kontur \n",
        "kontur, hierarki = cv2.findContours(citra, cv2.RETR_EXTERNAL, cv2.CHAIN_APPROX_NONE)\n",
        "\n",
        "print(\"Jumlah piksel semula:\", len(kontur[0]))\n",
        "\n",
        "epsilon = 0.01 * cv2.arcLength(kontur[0], True)\n",
        "approx = cv2.approxPolyDP(kontur[0], epsilon, True)\n",
        "\n",
        "print(\"Jumlah piksel sekarang:\", len(approx))\n"
      ],
      "metadata": {
        "id": "zs5Qea3Wysri",
        "outputId": "daffbb8e-c036-4c03-80db-4687bfe543d0",
        "colab": {
          "base_uri": "https://localhost:8080/"
        }
      },
      "execution_count": 5,
      "outputs": [
        {
          "output_type": "stream",
          "name": "stdout",
          "text": [
            "Jumlah piksel semula: 635\n",
            "Jumlah piksel sekarang: 14\n"
          ]
        }
      ]
    },
    {
      "cell_type": "markdown",
      "source": [
        "Hasil dari code di atas untuk melihat jumlah pixel semula dan pixel yang sudah saat ini dengan menggunakan approxpolydp untuk memperkirakan bentuk kontur ke bentuk lain menggunakan jumlah pixel"
      ],
      "metadata": {
        "id": "dtpuxrg9i0hY"
      }
    },
    {
      "cell_type": "code",
      "source": [
        "cv2.drawContours(citraBerwarna, approx, -1,(255, 0, 255), 8)"
      ],
      "metadata": {
        "colab": {
          "base_uri": "https://localhost:8080/"
        },
        "id": "YQSYzTHDe06j",
        "outputId": "2db286da-df84-44e2-e10f-1c89894227c1"
      },
      "execution_count": 7,
      "outputs": [
        {
          "output_type": "execute_result",
          "data": {
            "text/plain": [
              "array([[[0, 0, 0],\n",
              "        [0, 0, 0],\n",
              "        [0, 0, 0],\n",
              "        ...,\n",
              "        [0, 0, 0],\n",
              "        [0, 0, 0],\n",
              "        [0, 0, 0]],\n",
              "\n",
              "       [[0, 0, 0],\n",
              "        [0, 0, 0],\n",
              "        [0, 0, 0],\n",
              "        ...,\n",
              "        [0, 0, 0],\n",
              "        [0, 0, 0],\n",
              "        [0, 0, 0]],\n",
              "\n",
              "       [[0, 0, 0],\n",
              "        [0, 0, 0],\n",
              "        [0, 0, 0],\n",
              "        ...,\n",
              "        [0, 0, 0],\n",
              "        [0, 0, 0],\n",
              "        [0, 0, 0]],\n",
              "\n",
              "       ...,\n",
              "\n",
              "       [[0, 0, 0],\n",
              "        [0, 0, 0],\n",
              "        [0, 0, 0],\n",
              "        ...,\n",
              "        [0, 0, 0],\n",
              "        [0, 0, 0],\n",
              "        [0, 0, 0]],\n",
              "\n",
              "       [[0, 0, 0],\n",
              "        [0, 0, 0],\n",
              "        [0, 0, 0],\n",
              "        ...,\n",
              "        [0, 0, 0],\n",
              "        [0, 0, 0],\n",
              "        [0, 0, 0]],\n",
              "\n",
              "       [[0, 0, 0],\n",
              "        [0, 0, 0],\n",
              "        [0, 0, 0],\n",
              "        ...,\n",
              "        [0, 0, 0],\n",
              "        [0, 0, 0],\n",
              "        [0, 0, 0]]], dtype=uint8)"
            ]
          },
          "metadata": {},
          "execution_count": 7
        }
      ]
    },
    {
      "cell_type": "markdown",
      "source": [
        "**Matrix di atas adalah matrix dari drawcontours citra berwarna dan approx"
      ],
      "metadata": {
        "id": "uPHMRqXhkFF6"
      }
    },
    {
      "cell_type": "code",
      "source": [
        "from google.colab.patches import cv2_imshow"
      ],
      "metadata": {
        "id": "9Tn33YJ6fMHg"
      },
      "execution_count": 10,
      "outputs": []
    },
    {
      "cell_type": "markdown",
      "source": [
        "**Untuk mengimport patch cv2.imshow agar bisa menampilkan gambar yang sudah di upload tadi**"
      ],
      "metadata": {
        "id": "CPJcl3UzkdQM"
      }
    },
    {
      "cell_type": "code",
      "source": [
        "cv2_imshow(citra)\n",
        "cv2.waitKey()"
      ],
      "metadata": {
        "id": "zDCvXh60yy2Q",
        "colab": {
          "base_uri": "https://localhost:8080/",
          "height": 190
        },
        "outputId": "671797bd-3cc0-4928-c93b-42bcf6b3faf4"
      },
      "execution_count": 11,
      "outputs": [
        {
          "output_type": "display_data",
          "data": {
            "text/plain": [
              "<PIL.Image.Image image mode=L size=156x156 at 0x7F9CC7068A90>"
            ],
            "image/png": "[encoded data removed]"
          },
          "metadata": {}
        },
        {
          "output_type": "execute_result",
          "data": {
            "text/plain": [
              "-1"
            ]
          },
          "metadata": {},
          "execution_count": 11
        }
      ]
    },
    {
      "cell_type": "markdown",
      "source": [
        "**tampilan dari citra guppy yang sudah di upload tadi**"
      ],
      "metadata": {
        "id": "-lDyLThqkeoR"
      }
    }
  ]
}