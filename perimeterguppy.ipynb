{
  "nbformat": 4,
  "nbformat_minor": 0,
  "metadata": {
    "colab": {
      "provenance": [],
      "collapsed_sections": []
    },
    "kernelspec": {
      "name": "python3",
      "display_name": "Python 3"
    },
    "language_info": {
      "name": "python"
    }
  },
  "cells": [
    {
      "cell_type": "code",
      "execution_count": 1,
      "metadata": {
        "id": "L9WgHiMPx682"
      },
      "outputs": [],
      "source": [
        "import cv2"
      ]
    },
    {
      "cell_type": "code",
      "source": [
        "#Baca citra biner\n",
        "citra = cv2.imread(\"guppy.jpeg\", 0)"
      ],
      "metadata": {
        "id": "IPlRY76pzuCz"
      },
      "execution_count": 2,
      "outputs": []
    },
    {
      "cell_type": "code",
      "source": [
        "#Peroleh kontur\n",
        "kontur, hierarki = cv2.findContours(citra, cv2.RETR_EXTERNAL, cv2.CHAIN_APPROX_NONE)"
      ],
      "metadata": {
        "id": "vbub7TIa0ADL"
      },
      "execution_count": 3,
      "outputs": []
    },
    {
      "cell_type": "code",
      "source": [
        "#Peroleh perimeter\n",
        "keliling = cv2.arcLength(kontur[0], True)\n",
        "\n",
        "print(\"Keliling = \", keliling)"
      ],
      "metadata": {
        "colab": {
          "base_uri": "https://localhost:8080/"
        },
        "id": "P91XQHwM0O4m",
        "outputId": "e311a2af-639e-4dd1-b9d0-960e1dbce9c3"
      },
      "execution_count": 4,
      "outputs": [
        {
          "output_type": "stream",
          "name": "stdout",
          "text": [
            "Keliling =  679.3208485841751\n"
          ]
        }
      ]
    },
    {
      "cell_type": "markdown",
      "source": [
        "**Menentukan Keliling Dari Guppy menggunakan cv2.arcLenght berfungsi untuk menghitung perimeter kontur**"
      ],
      "metadata": {
        "id": "9d9EeAucochm"
      }
    }
  ]
}