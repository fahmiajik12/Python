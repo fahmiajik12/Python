{
  "nbformat": 4,
  "nbformat_minor": 0,
  "metadata": {
    "colab": {
      "name": "project-aas-nbk",
      "provenance": [],
      "collapsed_sections": []
    },
    "kernelspec": {
      "name": "python3",
      "display_name": "Python 3"
    },
    "language_info": {
      "name": "python"
    }
  },
  "cells": [
    {
      "cell_type": "markdown",
      "source": [
        "Klasifikasi data penyakit menular menggunakan naive bayes "
      ],
      "metadata": {
        "id": "lBjmenNcRrMl"
      }
    },
    {
      "cell_type": "code",
      "source": [
        "import numpy as np\n",
        "import matplotlib.pyplot as plt\n",
        "import pandas as pd"
      ],
      "metadata": {
        "id": "D0MXTcbQRxvV"
      },
      "execution_count": 3,
      "outputs": []
    },
    {
      "cell_type": "markdown",
      "source": [
        "Dataset yang kita gunakan pada variabel x adalah pada kolom 2 (hipertensi), dan 3 (diabetes mellitus) dari data yang ada pada excel.\n",
        "\n",
        "Dataset yang kita gunakan pada variabel y adalah pada kolom dari data yang ada pada excel."
      ],
      "metadata": {
        "id": "0rtg4SowSdZ1"
      }
    },
    {
      "cell_type": "code",
      "source": [
        "dataset = pd.read_csv(\"data-penyakit-tidak-menular-berdasarkan-kecamatan-magelang.csv\")\n",
        "x = dataset.iloc[:, [2,3]].values\n",
        "y = dataset.iloc[:, -1].values"
      ],
      "metadata": {
        "id": "2MsAIYYQSEMt"
      },
      "execution_count": 4,
      "outputs": []
    },
    {
      "cell_type": "code",
      "source": [
        "print(x)"
      ],
      "metadata": {
        "id": "6rz2AQ0YSFh2"
      },
      "execution_count": null,
      "outputs": []
    },
    {
      "cell_type": "markdown",
      "source": [
        "variabel **y** untuk menyimpan label (rawat inap)"
      ],
      "metadata": {
        "id": "xiXVYTtzSnhe"
      }
    },
    {
      "cell_type": "code",
      "source": [
        "print(y)"
      ],
      "metadata": {
        "id": "I4mRtSbBSH6-"
      },
      "execution_count": null,
      "outputs": []
    },
    {
      "cell_type": "markdown",
      "source": [
        "Kemudan kita pisahkan training & testing. Maka kita bisa buat 25%, jadi yang 3/4 digunakan untuk training, dan yang 1/4 atau 25% digunakan untuk testing"
      ],
      "metadata": {
        "id": "LuOPE_IUSt5G"
      }
    },
    {
      "cell_type": "code",
      "source": [
        "from sklearn.model_selection import train_test_split\n",
        "x_train, x_test, y_train, y_test = train_test_split(x, y, test_size=0.25, random_state=0)"
      ],
      "metadata": {
        "id": "fjEsdjzxSJQF"
      },
      "execution_count": null,
      "outputs": []
    },
    {
      "cell_type": "code",
      "source": [
        "print(x_train)"
      ],
      "metadata": {
        "id": "l48B2X8sSKdN"
      },
      "execution_count": null,
      "outputs": []
    },
    {
      "cell_type": "code",
      "source": [
        "print(x_test)"
      ],
      "metadata": {
        "id": "WToReOgNSL01"
      },
      "execution_count": null,
      "outputs": []
    },
    {
      "cell_type": "markdown",
      "source": [
        "kurang lebih ada"
      ],
      "metadata": {
        "id": "ZClDwRgdS2m1"
      }
    },
    {
      "cell_type": "code",
      "source": [
        "print(y_train)"
      ],
      "metadata": {
        "id": "hHKXEGnrSNKe"
      },
      "execution_count": null,
      "outputs": []
    },
    {
      "cell_type": "markdown",
      "source": [
        "kurang lebih pada y_test ada 7 data, karena 25% dari jumlah semua data (31 data)\n",
        "\n"
      ],
      "metadata": {
        "id": "laK7tJF4S_ge"
      }
    },
    {
      "cell_type": "code",
      "source": [
        "print(y_test)"
      ],
      "metadata": {
        "id": "NxwhnICWSOu9"
      },
      "execution_count": null,
      "outputs": []
    },
    {
      "cell_type": "markdown",
      "source": [
        "karena jarak 429 -ke- 1 terlalu besar interval/jaraknya [pada x_train, dan x_test] maka kita perlu skalar, kita buat standard scaler"
      ],
      "metadata": {
        "id": "5zEJjx2PTDld"
      }
    },
    {
      "cell_type": "code",
      "source": [
        "from sklearn.preprocessing import StandardScaler\n",
        "sc = StandardScaler()\n",
        "x_train = sc.fit_transform(x_train)\n",
        "x_test = sc.transform(x_test)"
      ],
      "metadata": {
        "id": "fCqwcbJ2SQLV"
      },
      "execution_count": null,
      "outputs": []
    },
    {
      "cell_type": "code",
      "source": [
        "print(x_train)"
      ],
      "metadata": {
        "id": "c-zNrazySRv9"
      },
      "execution_count": null,
      "outputs": []
    },
    {
      "cell_type": "code",
      "source": [
        "print(x_test)"
      ],
      "metadata": {
        "colab": {
          "base_uri": "https://localhost:8080/"
        },
        "id": "myShr3C-STFF",
        "outputId": "dfc67759-9274-408b-db9d-2625962b72fc"
      },
      "execution_count": null,
      "outputs": [
        {
          "output_type": "stream",
          "name": "stdout",
          "text": [
            "[[ 0.54649112  1.32287566]\n",
            " [ 0.07306143  1.32287566]\n",
            " [ 0.42178281 -0.75592895]\n",
            " [-0.91536737  1.32287566]\n",
            " [ 0.07537085  1.32287566]\n",
            " [-0.94538974 -0.75592895]\n",
            " [-0.55278951  1.32287566]\n",
            " [ 4.07989314  1.32287566]]\n"
          ]
        }
      ]
    },
    {
      "cell_type": "markdown",
      "source": [
        "untuk memanggil (NB)Naive Bayes nya. Import function Gaussian, karena bentuk datanya numerik. Kita simpan ke dalam variabel classifier"
      ],
      "metadata": {
        "id": "V85cuqqqSWdN"
      }
    },
    {
      "cell_type": "code",
      "source": [
        "from sklearn.naive_bayes import GaussianNB\n",
        "classifier = GaussianNB()\n",
        "classifier.fit(x_train, y_train)"
      ],
      "metadata": {
        "id": "75ZYHLkaSV_G"
      },
      "execution_count": null,
      "outputs": []
    },
    {
      "cell_type": "markdown",
      "source": [
        "Lalu kita hitung prediksinya(nilai prediksinya), yang kita prediksi labelnya (data dari x_test)"
      ],
      "metadata": {
        "id": "rq_N0vgMTUYn"
      }
    },
    {
      "cell_type": "code",
      "source": [
        "y_pred = classifier.predict(x_test)"
      ],
      "metadata": {
        "id": "Q73N36kHTYUV"
      },
      "execution_count": null,
      "outputs": []
    },
    {
      "cell_type": "markdown",
      "source": [
        "mengevaluasi model prediksi, berapakah nilai ke-akuratannya (nilai akurasinya)"
      ],
      "metadata": {
        "id": "5MJXj30BTcfX"
      }
    },
    {
      "cell_type": "code",
      "source": [
        "from sklearn.metrics import confusion_matrix\n",
        "cm = confusion_matrix(y_test, y_pred)\n",
        "print(cm)"
      ],
      "metadata": {
        "id": "JSYseevpTddt"
      },
      "execution_count": null,
      "outputs": []
    },
    {
      "cell_type": "markdown",
      "source": [
        "kita ingin membuat persebaran data dari klasifikasi data naive bayes, tapi yang kita sebarkan adalah dari data x_train & data y_train nya.\n",
        "\n",
        "Jadi dari atribut x_train adalah atribut : Hipertensi (kolom ke-0) dan Diabetes Mellitus (kolom ke-1), sehingga kita pisahkan menjadi x1 dengan x2 (jadi atribut x_train dibagi dua). Lalu kita buat contourf, dimana nanti kita pisahkan warnanya untuk label yang pertama berwarna 'red', dan label yang kedua berwarna 'green'\n",
        "\n",
        "//Function scatter digunakan untuk persebaran data\n",
        "\n",
        "*keterangan:\n",
        "\n",
        "x = atribut (hipertensi, diabetes mellitus) y = labelnya (rawat inap) 0 = no (tidak dirawat inap) 1 = yes (dirawat inap)"
      ],
      "metadata": {
        "id": "fcXGsgR7Tgl_"
      }
    },
    {
      "cell_type": "code",
      "source": [
        "from matplotlib.colors import ListedColormap\n",
        "x_set, y_set = x_train, y_train\n",
        "x1, x2 = np.meshgrid(np.arange(start = x_set[:, 0].min()-1, stop = x_set[:, 0].max() + 1, step=0.01),\n",
        "                     np.arange(start = x_set[:, 1].min()-1, stop = x_set[:, 0].max() + 1, step=0.01))\n",
        "plt.contourf(x1,x2, classifier.predict(np.array([x1.ravel(), x2.ravel()]).T).reshape(x1.shape),\n",
        "             alpha = 0.75, cmap = ListedColormap(('red', 'green')))\n",
        "plt.xlim(x1.min(), x1.max())\n",
        "plt.ylim(x2.min(), x2.max())\n",
        "for i,j in enumerate (np.unique(y_set)):\n",
        "  plt.scatter(x_set[y_set == j, 0], x_set[y_set==j, 1], \n",
        "              c = ListedColormap(('red', 'green'))(i), label = j)\n",
        "plt.title('Klasifikasi Data dengan Naive Bayes (Data Training)')\n",
        "plt.xlabel('Hipertensi')\n",
        "plt.ylabel('Diabetes Mellitus')\n",
        "plt.legend()\n",
        "plt.show()"
      ],
      "metadata": {
        "id": "73axNQAJTjMd"
      },
      "execution_count": null,
      "outputs": []
    },
    {
      "cell_type": "markdown",
      "source": [
        "kita ingin menggambarkan (persebaran data) x_test dengan y_test nya"
      ],
      "metadata": {
        "id": "omBYvB1CTpHF"
      }
    },
    {
      "cell_type": "code",
      "source": [
        "from matplotlib.colors import ListedColormap\n",
        "x_set, y_set = x_test, y_test\n",
        "x1, x2 = np.meshgrid(np.arange(start = x_set[:, 0].min()-1, stop = x_set[:, 0].max() + 1, step=0.01),\n",
        "                     np.arange(start = x_set[:, 1].min()-1, stop = x_set[:, 0].max() + 1, step=0.01))\n",
        "plt.contourf(x1,x2, classifier.predict(np.array([x1.ravel(), x2.ravel()]).T).reshape(x1.shape),\n",
        "             alpha = 0.75, cmap = ListedColormap(('red', 'green')))\n",
        "plt.xlim(x1.min(), x1.max())\n",
        "plt.ylim(x2.min(), x2.max())\n",
        "for i,j in enumerate (np.unique(y_set)):\n",
        "  plt.scatter(x_set[y_set == j, 0], x_set[y_set==j, 1], \n",
        "              c = ListedColormap(('red', 'green'))(i), label = j)\n",
        "plt.title('Klasifikasi Data dengan Naive Bayes (Data Training)')\n",
        "plt.xlabel('Hipertensi')\n",
        "plt.ylabel('Diabetes Mellitus')\n",
        "plt.legend()\n",
        "plt.show()"
      ],
      "metadata": {
        "id": "Widqh8wATra9"
      },
      "execution_count": null,
      "outputs": []
    }
  ]
}